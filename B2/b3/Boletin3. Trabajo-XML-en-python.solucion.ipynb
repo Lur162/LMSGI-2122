{
 "cells": [
  {
   "cell_type": "markdown",
   "metadata": {},
   "source": [
    "# Trabajo con XML en Python"
   ]
  },
  {
   "cell_type": "markdown",
   "metadata": {},
   "source": [
    "Para la realización de estos ejercicios, podeis consultar:\n",
    "1. [Video: trabajo con librería pandas en Python](https://www.youtube.com/watch?v=avGrGydcAWI)\n",
    "2. [Documento: Trabajar xon XML en Python](https://docs.google.com/document/d/1bDwPQ07CjNdeN-uxXvw8Lgm2dopt1ntkhlJnnHuCQhc/edit?usp=sharing)\n",
    "3. [Tutorial: Uso de XML en python](https://www.oulub.com/es-ES/Python/library.xml.etree.elementtree)"
   ]
  },
  {
   "cell_type": "markdown",
   "metadata": {},
   "source": [
    "### Ejercicio 1\n",
    "\n",
    "Obtener el fichero XML \"student.xml\" y convertir en un Dataframe con las siguientes columnas \"name\",\"email\",\"grade\",\"age\".<br>\n",
    "Este proceso encapsulalo en una función de nombre \"loadStudentsFromXML\" al cual se le pase un parámetro el fichero a cargar (ruta y nombre del fichero), y retorne el Dataframe obtenido.\n",
    "Para obtener ayuda mirar el siguiente [video](https://youtu.be/avGrGydcAWI)"
   ]
  },
  {
   "cell_type": "code",
   "execution_count": null,
   "metadata": {},
   "outputs": [],
   "source": [
    "import xml.etree.ElementTree as et\n",
    "import pandas as pd\n",
    "\n",
    "def loadStudentsFromXML(strFile):\n",
    "\n",
    "    doc = et.parse(strFile)\n",
    "\n",
    "    xroot = doc.getroot()\n",
    "\n",
    "    df_cols = [\"name\",\"email\",\"grade\",\"age\"]\n",
    "    rows = []\n",
    "\n",
    "    for node in xroot:\n",
    "        name = node.attrib.get(\"name\")\n",
    "        mail = node.find(\"email\").text\n",
    "        grade = node.find(\"grade\").text\n",
    "        age = node.find(\"age\").text\n",
    "\n",
    "        rows.append({\"email\": mail,\"name\": name, \"grade\": grade, \"age\": age})\n",
    "\n",
    "\n",
    "    df = pd.DataFrame(rows, columns=df_cols)\n",
    "    return df\n",
    "\n",
    "df = loadStudentsFromXML(\"./res/student.xml\")\n",
    "#print(df)"
   ]
  },
  {
   "cell_type": "code",
   "execution_count": null,
   "metadata": {},
   "outputs": [],
   "source": [
    "import xml.etree.ElementTree as et\n",
    "\n",
    "doc = et.parse(\"\")\n",
    "xroot = doc.getroot()\n",
    "\n",
    "libro = xroot.find(\"boot\")\n",
    "libro.attrib.pop()\n",
    "\n",
    "et.ElementTree.write"
   ]
  },
  {
   "cell_type": "markdown",
   "metadata": {},
   "source": [
    "### Ejercicio 2\n",
    "\n",
    "Utilizando el método del ejercicio-1, con el dataframe obtenido establece la columna índice a la columna \"name\""
   ]
  },
  {
   "cell_type": "code",
   "execution_count": null,
   "metadata": {},
   "outputs": [],
   "source": [
    "df = loadStudentsFromXML(\"./res/student.xml\")\n",
    "df = df.set_index(\"name\")\n",
    "print(df)"
   ]
  },
  {
   "cell_type": "markdown",
   "metadata": {},
   "source": [
    "### Ejercicio 3\n",
    "\n",
    "Carga el fichero CSV \"student.csv\" en un panda Dataframe, en el cual la columna indice sea el nombre del alumno"
   ]
  },
  {
   "cell_type": "code",
   "execution_count": null,
   "metadata": {},
   "outputs": [],
   "source": [
    "df = pd.read_csv(\"./res/students.csv\",index_col=\"name\")\n",
    "print(df)"
   ]
  },
  {
   "cell_type": "markdown",
   "metadata": {},
   "source": [
    "### Ejercicio 4\n",
    "\n",
    "Carga el fichero CSV \"student.csv\", pero solo carga las columnas name, email y age."
   ]
  },
  {
   "cell_type": "code",
   "execution_count": null,
   "metadata": {},
   "outputs": [],
   "source": [
    "df = pd.read_csv(\"./res/students.csv\",index_col=\"name\",usecols=['name','email','age'])\n",
    "print(df)"
   ]
  },
  {
   "cell_type": "markdown",
   "metadata": {},
   "source": [
    "### Ejercicio 5\n",
    "\n",
    "Pasar el XML \"students.xml\" a un diccionario con la siguiente estructura.<br>\n",
    "Una lista que contenga la siguiente información:\n",
    "<br>\n",
    "```python\n",
    "[\n",
    "  {\n",
    "    \"name\": \"John\"\n",
    "    \"email\": john@mail.com,\n",
    "    \"grade\": \"A\",\n",
    "    \"age\": 16\n",
    "  {\n",
    "    \"name\": \"Alice\"\n",
    "    \"email\": \"alice@mail.com\",\n",
    "    \"grade\": \"B\",\n",
    "    \"age\": 17\n",
    "},\n",
    "   ... \n",
    "] \n",
    "```\n",
    "Definir una función \"studentsXml2Dic\" con un parámetro que sea el nombre del fichero, y retorne el diccionario construido.<br>\n",
    "Para la realización de este ejercicio consultar [Trabajo con XML en Python](https://docs.google.com/document/d/1bDwPQ07CjNdeN-uxXvw8Lgm2dopt1ntkhlJnnHuCQhc/edit?usp=sharing)"
   ]
  },
  {
   "cell_type": "code",
   "execution_count": 61,
   "metadata": {},
   "outputs": [],
   "source": [
    "import xml.etree.ElementTree as et\n",
    "import json\n",
    "\n",
    "#Pasos para la realización\n",
    "# 1. Cargar y parsear el fichero con ElementTree\n",
    "# 2. Recorrer el XML e ir creando el diccionario por cada estudiante\n",
    "# 3. Agregar a la lista cada estudiente (diccionario) generado\n",
    "\n",
    "\n",
    "def studentsXml2Dic(strXmlFile):\n",
    "     xtree = et.parse(strXmlFile)\n",
    "     xroot = xtree.getroot()\n",
    "\n",
    "     listaStudents = []\n",
    "\n",
    "     for node in xroot:\n",
    "          name = node.attrib.get(\"name\")\n",
    "          mail = node.find(\"email\").text\n",
    "          grade = node.find(\"grade\").text\n",
    "          age = node.find(\"age\").text\n",
    "\n",
    "          dictStd = {\"name\": name, \"email\": mail, \"grade\": grade, \"age\": age }\n",
    "          listaStudents.append(dictStd)\n",
    "\n",
    "     return listaStudents\n"
   ]
  },
  {
   "cell_type": "code",
   "execution_count": null,
   "metadata": {},
   "outputs": [],
   "source": [
    "# Probar la función\n",
    "dictStudents = studentsXml2Dic(\"./res/student.xml\")\n",
    "\n",
    "#Para facilitar la visualización, utilizar este truco utilizando la libreria json.\n",
    "print(json.dumps(dictStudents,sort_keys=True,indent=4))"
   ]
  },
  {
   "cell_type": "markdown",
   "metadata": {},
   "source": [
    "### Ejercicio 6\n",
    "\n",
    "Pasar el diccionario creado en el ejercicio anterior, a un fichero XML \"estudiantes.xml\".<br>\n",
    "La estructura será igual al fichero XML \"student.xml\" (carpeta /res).\n",
    "Para ello utilizar la libreria \"xml.etree.ElementTree\".\n",
    "Fichero resultante debe ser este: \n",
    "<br>\n",
    "```xml\n",
    "<students>\n",
    "    <student name=\"John\">\n",
    "        <email>john@mail.com</email>\n",
    "        <grade>A</grade>\n",
    "        <age>16</age>\n",
    "    </student>\n",
    "    <student name=\"Alice\">\n",
    "        <email>alice@mail.com</email>\n",
    "        <grade>B</grade>\n",
    "        <age>17</age>\n",
    "    </student>\n",
    "    <student name=\"Bob\">\n",
    "        <email>bob@mail.com</email>\n",
    "        <grade>C</grade>\n",
    "        <age>16</age>\n",
    "    </student>\n",
    "    <student name=\"Hannah\">\n",
    "        <email>hannah@mail.com</email>\n",
    "        <grade>A</grade>\n",
    "        <age>17</age>\n",
    "    </student>\n",
    "</students>\n",
    "```\n",
    "Para la realización de este ejercicio consultar [Trabajo con XML en Python](https://docs.google.com/document/d/1bDwPQ07CjNdeN-uxXvw8Lgm2dopt1ntkhlJnnHuCQhc/edit?usp=sharing)"
   ]
  },
  {
   "cell_type": "code",
   "execution_count": 68,
   "metadata": {},
   "outputs": [],
   "source": [
    "import xml.etree.ElementTree as et\n",
    "import json\n",
    "\n",
    "#Pasos para la realización\n",
    "# 1. Parametros necesarios dicionario-estudiantes y nombre-fichero-xml-guardar\n",
    "# 2. Iterar por la lista de estudiantes\n",
    "# 3. Crear el nodo-raiz del XML\n",
    "# 4. Crear el nodo-estudiante\n",
    "# 5. Crear los Tag (age, email, grade)\n",
    "# 6. Agregar al nodo-estudiante los hijos (age,email,grade)\n",
    "# 7. Guardar el nodo-raiz como un fichero XML\n",
    "\n",
    "def studentsDic2Xml(dicStudents, strXmlFileToSave):\n",
    "\n",
    "    # 3. Crear el nodo-raiz del XML\n",
    "    root = et.Element(\"students\")\n",
    "    \n",
    "    # 2. Iterar por la lista de estudiantes\n",
    "    for studentItem in dictStudents:\n",
    "\n",
    "        # 4. Crear el nodo-estudiante\n",
    "        studentTag = et.Element(\"student\", attrib={\"name\": studentItem['name']})\n",
    "        \n",
    "        # 5. Crear los Tag (age, email, grade)\n",
    "        emailTag = et.Element(\"email\")\n",
    "        emailTag.text = studentItem[\"email\"]\n",
    "        studentTag.append(emailTag)\n",
    "\n",
    "        gradeTag = et.Element(\"grade\")\n",
    "        gradeTag.text = studentItem[\"grade\"]\n",
    "        studentTag.append(gradeTag)\n",
    "        \n",
    "        ageTag = et.Element(\"age\")\n",
    "        ageTag.text = studentItem[\"age\"]\n",
    "        studentTag.append(ageTag)\n",
    "        \n",
    "        # 6. Agregar al nodo-estudiante los hijos (age,email,grade)\n",
    "        root.append(studentTag)\n",
    "\n",
    "    xmlTree = et.ElementTree(root)\n",
    "\n",
    "    # 7. Guardar el nodo-raiz como un fichero XML\n",
    "    xmlTree.write(strXmlFileToSave)"
   ]
  },
  {
   "cell_type": "code",
   "execution_count": null,
   "metadata": {},
   "outputs": [],
   "source": [
    "# Probar la función\n",
    "\n",
    "#Llamar a la función anterior\n",
    "dictStudents = studentsXml2Dic(\"./res/student.xml\")\n",
    "\n",
    "#Convertir el diccionario en XML ==> llamar a la función\n",
    "studentsDic2Xml(dictStudents,'./res/estudiantes.xml')"
   ]
  },
  {
   "cell_type": "markdown",
   "metadata": {},
   "source": [
    "### Ejercicio 7\n",
    "\n",
    "Pasar el XML \"ciclos-ies-gonzalo-nazareno.xml\" a la siguiente estructura python.<br>\n",
    "```python\n",
    "{\n",
    "    \"nombre\": \"IES Gonzalo Nzareno\",\n",
    "    \"web\": \"\",\n",
    "    \"ciclos\": [\n",
    "        {\n",
    "            \"id\": \"ASIR\",\n",
    "            \"nombre\": \"Administración de Sistemas informáticos en Red\",\n",
    "            \"grado\": \"Superior\",\n",
    "            \"decretoTitulo\": \"2009\"\n",
    "        },\n",
    "         {\n",
    "            \"id\": \"DAW\",\n",
    "            \"nombre\": \"Desarrollo de Aplicaciones Web\",\n",
    "            \"grado\": \"Superior\",\n",
    "            \"decretoTitulo\": \"2010\"\n",
    "        },\n",
    "    ],\n",
    "    \"modulos\": [\n",
    "        {\n",
    "            \"id\": 228,\n",
    "            \"modulo\": \"Aplicaciones Web\",\n",
    "            \"curso\": 2,\n",
    "            \"horasSemanales\": 4,\n",
    "            \"ciclo\": \"SMR\"\n",
    "        },\n",
    "         {\n",
    "            \"id\": 373,\n",
    "            \"modulo\": \"Lenguajes de marcas y sistemas de gestión de información\",\n",
    "            \"curso\": 1,\n",
    "            \"horasSemanales\": 4,\n",
    "            \"ciclo\": [\"ASIR\", \"DAW\", \"DAM\" ]\n",
    "        },\n",
    "    ]\n",
    "} \n",
    "```\n",
    "Definir una función \"ciclosXml2Dic\" con un parámetro que sea el nombre del fichero, y retorne la estructura construida."
   ]
  },
  {
   "cell_type": "code",
   "execution_count": 9,
   "metadata": {},
   "outputs": [],
   "source": [
    "import xml.etree.ElementTree as et\n",
    "import json\n",
    "\n",
    "#Pasos para la realización\n",
    "# 1. Cargar y parsear el fichero con ElementTree\n",
    "# 2. Recorrer el XML e ir creando el diccionario por cada estudiante\n",
    "# 3. Agregar a la lista cada estudiente (diccionario) generado\n",
    "\n",
    "def ciclosXml2Dic(strXmlFile):\n",
    "\n",
    "    doc = et.parse(strXmlFile)\n",
    "    xroot = doc.getroot()\n",
    "\n",
    "    dc = {}\n",
    "    ciclos = []\n",
    "    modulos = []\n",
    "\n",
    "    # Cargar el nombre y la web\n",
    "    dc = {\n",
    "        \"nombre\": xroot.find(\"nombre\").text,\n",
    "        \"web\": xroot.find(\"web\").text\n",
    "    }\n",
    "\n",
    "    # Obtenemos los ciclos\n",
    "    ciclosNode = xroot.find(\"ciclos\")\n",
    "\n",
    "    for node in ciclosNode:\n",
    "\n",
    "        cicloDict = {\n",
    "            \"id\": node.attrib.get(\"id\"),\n",
    "            \"nombre\": node.find(\"nombre\").text,\n",
    "            \"grado\": node.find(\"grado\").text,\n",
    "            \"decretoTitulo\": node.find(\"decretoTitulo\").attrib.get(\"año\")\n",
    "        }\n",
    "\n",
    "        ciclos.append(cicloDict)\n",
    "\n",
    "    # Obtenemos los módulos\n",
    "\n",
    "    modulosNode = xroot.find(\"modulos\")\n",
    "\n",
    "    for moduleNode in modulosNode:\n",
    "\n",
    "        moduloDict = {\n",
    "            \"id\": moduleNode.attrib.get(\"id\"),\n",
    "            \"nombre\": moduleNode.find(\"nombre\").text,\n",
    "            \"curso\": moduleNode.find(\"curso\").text,\n",
    "            \"horasSemanales\": moduleNode.find(\"horasSemanales\").text,\n",
    "        }\n",
    "\n",
    "        moduleCiclos = []\n",
    "        for cicloNode in moduleNode.findall(\"ciclo\"):\n",
    "            moduleCiclos.append(cicloNode.text)\n",
    "\n",
    "        moduloDict[\"ciclo\"]= moduleCiclos\n",
    "\n",
    "        modulos.append(moduloDict)\n",
    "\n",
    "\n",
    "    ## Formamos el diccionario final\n",
    "\n",
    "    dc[\"ciclos\"] = ciclos\n",
    "    dc[\"modulos\"] = modulos\n",
    "\n",
    "\n",
    "    return dc"
   ]
  },
  {
   "cell_type": "code",
   "execution_count": null,
   "metadata": {},
   "outputs": [],
   "source": [
    "# Probar la función\n",
    "\n",
    "dc = ciclosXml2Dic(\"./res/ciclos-ies-gonzalo-nazareno.xml\")\n",
    "dc"
   ]
  }
 ],
 "metadata": {
  "interpreter": {
   "hash": "ec9676ad9f5f678c6129e80930667ff10a4176bd4043345bcdc6bd53c57c67c7"
  },
  "kernelspec": {
   "display_name": "Python 3.9.10 64-bit (windows store)",
   "language": "python",
   "name": "python3"
  },
  "language_info": {
   "codemirror_mode": {
    "name": "ipython",
    "version": 3
   },
   "file_extension": ".py",
   "mimetype": "text/x-python",
   "name": "python",
   "nbconvert_exporter": "python",
   "pygments_lexer": "ipython3",
   "version": "3.9.10"
  },
  "orig_nbformat": 4
 },
 "nbformat": 4,
 "nbformat_minor": 2
}
