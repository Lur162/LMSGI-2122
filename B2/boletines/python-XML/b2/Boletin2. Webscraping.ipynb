{
 "cells": [
  {
   "cell_type": "markdown",
   "metadata": {},
   "source": [
    "<a id=\"functions\"></a>\n",
    "# WebScraping\n",
    "\n",
    "\n",
    "El web scraping (“raspado” de páginas web) consiste en la extracción de los datos significativos de una o varias páginas web determinadas, o de todas las páginas web que estén relacionadas mediante enlaces en un sitio web, para una manipulación o análisis posterior .\n",
    "\n",
    "Esta extracción se realiza obteniendo la información a través de \"eliminar\" la información que no nos interesa, los metadatos y quedarnos solo con los datos que nos interesan, los datos puros.\n",
    "\n",
    "Los datos están inmersos dentro de la maraña de información que es el HTML y debemos navegar e inspeccionar estos datos y encontrar patrones de funcionamiento. Estos patrones se repiten de forma estructurada, y nosostros debemos aplicar esos patrones para separar el \"grano\" (datos) de la \"paja\"\n",
    "\n",
    "Para hacer estos ejercicios es necesario que repaseis los recursos disponibles en el tema sobre WebScraping, y las librerias que vamos a usar.\n",
    "En el repositorio público del módulo tenéis disponibles [estos notebooks](https://github.com/jssdocente/LMSGI-2122/tree/main/_transversal/python/notebooks/2.%20Webscraping) y unos [ejemplos prácticos](https://github.com/jssdocente/LMSGI-2122/blob/main/_transversal/python/notebooks/2.%20Webscraping/2.5%20Ejemplos%20pr%C3%A1cticos%20de%20web%20scraping.ipynb) muy interesantes y de gran valor de aprendizaje.\n",
    "\n",
    "También teneís disponbile este [documento](https://docs.google.com/document/d/1CJ7MMTkvvtuAhw02YrhRaaSyO7sj-n03wOS9E2Fs2Ko/edit?usp=sharing) qué explica los conceptos más importantes.\n"
   ]
  },
  {
   "cell_type": "markdown",
   "metadata": {},
   "source": [
    "## 1. Obtener los valores de la Bolsa de Madrid\n",
    "\n",
    "Para este ejercicios inspeccionaremos la [web de la Bolsa de Madrid](http://www.bolsamadrid.es/esp/aspx/Indices/Resumen.aspx).\n",
    "Este ejercicio lo vamos a dividir en varias partes, hasta conseguir el resultado final."
   ]
  },
  {
   "cell_type": "markdown",
   "metadata": {},
   "source": [
    "### 1.1. Obtener el nombre de los índices que componen la bolsa de Madrid.\n",
    "\n",
    "El objetivo es obtener una lista, e imprimir esa lista con los nombres de los índices que la componen.<br>\n",
    "Para obtenerla necesitamos acceder a esta página donde se encuentra un resumen de los índices, su nombre y una serie de datos adicionales.\n"
   ]
  },
  {
   "cell_type": "code",
   "execution_count": 3,
   "metadata": {},
   "outputs": [],
   "source": [
    "# definir la función que devuelva los nombres de los índices de la Bolsa de Madrid\n",
    "\n",
    "# importar librerias necesarias. En el resto de ejercicios, importar las necesarias, no siempre serán estas, podrán requerirse adicionales.\n",
    "import requests\n",
    "from bs4 import BeautifulSoup\n",
    "\n",
    "def obtenerListaIndicesBolsaMadrid():\n",
    "    url = \"https://www.bolsamadrid.es/esp/aspx/Indices/Resumen.aspx\"\n",
    "\n",
    "    # completar el código necesario"
   ]
  },
  {
   "cell_type": "code",
   "execution_count": null,
   "metadata": {},
   "outputs": [],
   "source": [
    "# Probar la funcion\n",
    "obtenerListaIndicesBolsaMadrid()"
   ]
  },
  {
   "cell_type": "markdown",
   "metadata": {},
   "source": [
    "### 1.2. Obtener un diccionario con los nombres de los índices que componen la bolsa de Madrid.\n",
    "\n",
    "El objetivo es obtener un diccionario, donde la clave sea el nombre del índice y su valor, el máximo historio que ha tenido<br>\n",
    "Ese diccionario obtenido lo debemos ordenar de mayor a menor según su máximo valor.<br>\n",
    "Por último imprimirlo."
   ]
  },
  {
   "cell_type": "code",
   "execution_count": null,
   "metadata": {},
   "outputs": [],
   "source": [
    "# definir la función que devuelva los nombres de los índices de la Bolsa de Madrid\n",
    "def obtenerDiccioinarioIndicesBolsaMadrid():\n",
    "    url = \"https://www.bolsamadrid.es/esp/aspx/Indices/Resumen.aspx\"\n",
    "\n",
    "    # completar el código necesario para obtener diccionario\n",
    "\n",
    "\n",
    "\n",
    "\n",
    "    # ordenar por máximo\n",
    "\n"
   ]
  },
  {
   "cell_type": "code",
   "execution_count": null,
   "metadata": {},
   "outputs": [],
   "source": [
    "# Probar la funcion\n",
    "obtenerDiccioinarioIndicesBolsaMadrid()"
   ]
  },
  {
   "cell_type": "markdown",
   "metadata": {},
   "source": [
    "### 1.3. Crear un dataframe (pandas) con ciertas columnas de los índices la bolsa de Madrid.\n",
    "\n",
    "El objetivo es dar un paso más, y obtener un dataframe con las columnas (nombre, anterior, ultimo, maximo, minimo). La columna clave será el nombre del índice<br>\n",
    "Por último imprimirlo.\n",
    "Para la realización de este ejercicio os podeís guiar por este [Extración del texto de un discurso](https://github.com/jssdocente/LMSGI-2122/blob/main/_transversal/python/notebooks/2.%20Webscraping/2.5%20Ejemplos%20pr%C3%A1cticos%20de%20web%20scraping.ipynb)."
   ]
  },
  {
   "cell_type": "code",
   "execution_count": null,
   "metadata": {},
   "outputs": [],
   "source": [
    "# definir la función que resuelva el ejercicio\n",
    "import pandas as pd\n",
    "\n",
    "def obtenerDataframeIndicesBolsaMadrid():\n",
    "    url = \"https://www.bolsamadrid.es/esp/aspx/Indices/Resumen.aspx\"\n",
    "\n",
    "    # Para crear el dataframe se necesita crear un diccionario, donde las claves son las columnas. Y cada columna tiene una lista con todos los valores de esa columna.\n",
    "    datos = {\"indice\": [], \"anterior\": [],\"ultimo\": [],\"maximo\": [], \"minimo\": [] }\n",
    "\n",
    "    #Obtener el valor de la columna y agregar a la lista\n",
    "    #indiceNombre = obtener valor\n",
    "    #anteriorValor = obtener valor\n",
    "    # ...\n",
    "\n",
    "    # guardar en el diccionario en su clave, anexando esos valores a la lista\n",
    "    #datos[\"indice\"].append(indiceNombre)\n",
    "    #datos[\"anterior\"].append(anteriorValor)\n",
    "\n",
    "    # creación del dataframe\n",
    "    dt = pd.DataFrame(datos)\n",
    "\n",
    "    return dt\n"
   ]
  },
  {
   "cell_type": "code",
   "execution_count": null,
   "metadata": {},
   "outputs": [],
   "source": [
    "# Probar la funcion\n",
    "obtenerDataframeIndicesBolsaMadrid()"
   ]
  },
  {
   "cell_type": "markdown",
   "metadata": {},
   "source": [
    "### 1.4. Obtener los nombres de las Acciones del índice IBEX\n",
    "\n",
    "En este ejercicio se requiere obtener una lista de las acciones que conforman el índice del IBEX-35.<br>\n",
    "Al igual que el ejercicio 1.1, los nombres de devuelven en forma de lista"
   ]
  },
  {
   "cell_type": "code",
   "execution_count": null,
   "metadata": {},
   "outputs": [],
   "source": [
    "# definir la función que devuelva los nombres de los índices de la Bolsa de Madrid\n",
    "def obtenerListaAccionesIBEX():\n",
    "    url = \"https://www.bolsamadrid.es/esp/aspx/Mercados/Precios.aspx?indice=ESI100000000&punto=indice\"\n",
    "\n",
    "    # completar el código necesario"
   ]
  },
  {
   "cell_type": "code",
   "execution_count": null,
   "metadata": {},
   "outputs": [],
   "source": [
    "# Probar la funcion\n",
    "obtenerListaAccionesIBEX()"
   ]
  },
  {
   "cell_type": "markdown",
   "metadata": {},
   "source": [
    "### 1.5. Obtener un diccionario con el nombre y el volmen de la sesión\n",
    "\n",
    "El objetivo es obtener un diccionario, donde la clave sea el nombre de la acción y el volmen movido durante la sesión<br>\n",
    "Ese diccionario obtenido lo debemos ordenar de mayor a menor según su volumen.<br>\n",
    "Por último imprimirlo."
   ]
  },
  {
   "cell_type": "code",
   "execution_count": null,
   "metadata": {},
   "outputs": [],
   "source": [
    "# definir la función resuelve el ejercicio\n",
    "def obtenerDiccionarioListaAccionesIBEX():\n",
    "    url = \"https://www.bolsamadrid.es/esp/aspx/Mercados/Precios.aspx?indice=ESI100000000&punto=indice\"\n",
    "\n",
    "    # completar el código necesario"
   ]
  },
  {
   "cell_type": "code",
   "execution_count": null,
   "metadata": {},
   "outputs": [],
   "source": [
    "# Probar la funcion\n",
    "obtenerDiccionarioListaAccionesIBEX()"
   ]
  },
  {
   "cell_type": "markdown",
   "metadata": {},
   "source": [
    "### 1.6. Crear un dataframe (pandas) con ciertas columnas de las acciones.\n",
    "\n",
    "El objetivo es dar un paso más, y obtener un dataframe con las columnas (fecha, nombre, precio, max, min, volumen). La columna clave será el nombre de la acción<br>\n",
    "El orden de las columnas en el dataframe deben ser las siguientes: *fecha, nombre, precio, max, min, volumen*.<br>\n",
    "Por último imprimirlo."
   ]
  },
  {
   "cell_type": "code",
   "execution_count": 1,
   "metadata": {},
   "outputs": [],
   "source": [
    "# definir la función que resuelva el ejercicio\n",
    "def obtenerDataframeAccionesIBEX():\n",
    "    url = \"https://www.bolsamadrid.es/esp/aspx/Mercados/Precios.aspx?indice=ESI100000000&punto=indice\"\n",
    "\n",
    "    # completar el código necesario para obtener diccionario\n",
    "\n",
    "\n",
    "\n",
    "\n",
    "    # ordenar por máximo\n",
    "\n"
   ]
  },
  {
   "cell_type": "code",
   "execution_count": null,
   "metadata": {},
   "outputs": [],
   "source": [
    "# Probar la funcion\n",
    "obtenerDataframeAccionesIBEX()"
   ]
  },
  {
   "cell_type": "markdown",
   "metadata": {},
   "source": [
    "### 1.7. Guardar el dataframe obtenido en un fichero CSV\n",
    "\n",
    "El objetivo es dar un paso más, y guardar los valores obtenidos en el dataframe en un fichero CSV (separado por , o ; o ...)<br>\n",
    "Este ejercicio es una continuación del ejercicio 1.6, con lo que se creará otra función para guardar el dataframe obtenido en un fichero CSV.\n",
    "El orden de las columnas debe ser el siguiente: *fecha, nombre, precio, max, min, volumen*.<br>\n",
    " \n",
    "Este fichero si no existe se crea, y si existe, se le anexarán las nuevas filas para los datos de la sesión para ese día.\n",
    "Por último imprimirlo.\n",
    "\n",
    "¿Ayuda? podeis seguir este [articulo](https://www.delftstack.com/es/howto/python-pandas/write-a-pandas-dataframe-to-csv/) donde explica cómo guardar un dataframe a un CSV."
   ]
  },
  {
   "cell_type": "code",
   "execution_count": 2,
   "metadata": {},
   "outputs": [],
   "source": [
    "# definir la función que resuelva el ejercicio. \n",
    "\n",
    "#Se el pasan 2 argumentos, el dataframe(df) y el nombre del fichero CSV donde se va a guardar\n",
    "csvfile = \"datosAccionesIbex.csv\"\n",
    "\n",
    "def saveToCSV(df, csvFileName):\n",
    "    \n",
    "    # completar el código necesario para obtener diccionario\n",
    "\n",
    "\n",
    "\n",
    "\n",
    "    # ordenar por máximo\n",
    "    \n",
    "    return df"
   ]
  },
  {
   "cell_type": "code",
   "execution_count": 3,
   "metadata": {},
   "outputs": [],
   "source": [
    "# Probar la funcion\n",
    "\n",
    "df = obtenerDataframeAccionesIBEX()\n",
    "\n",
    "\n",
    "saveToCSV(df,csvfile)"
   ]
  }
 ],
 "metadata": {
  "kernelspec": {
   "display_name": "Python 3",
   "language": "python",
   "name": "python3"
  },
  "language_info": {
   "codemirror_mode": {
    "name": "ipython",
    "version": 3
   },
   "file_extension": ".py",
   "mimetype": "text/x-python",
   "name": "python",
   "nbconvert_exporter": "python",
   "pygments_lexer": "ipython3",
   "version": "3.9.10"
  }
 },
 "nbformat": 4,
 "nbformat_minor": 2
}
