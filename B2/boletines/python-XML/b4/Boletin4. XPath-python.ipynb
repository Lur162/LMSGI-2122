{
 "cells": [
  {
   "cell_type": "markdown",
   "metadata": {},
   "source": [
    "# Trabajo con XPath en Python"
   ]
  },
  {
   "cell_type": "markdown",
   "metadata": {},
   "source": [
    "Para la realización de estos ejercicios es necesario instalar la libreria \"lxml\"\n",
    "```sh\n",
    "$> pip install lxml\n",
    "```"
   ]
  },
  {
   "cell_type": "markdown",
   "metadata": {},
   "source": [
    "Los ejercicios se realizarán sobre el siguiente documento XML<br>\n",
    "También está disponible en la carpeta recursos (res)\n",
    "```XML\n",
    "<?xml version=\"1.0\" encoding=\"UTF-8\"?>\n",
    "<ies>\n",
    "  <nombre>IES TicArte</nombre>\n",
    "  <web>http://www.ticarte.com</web>\n",
    "  <ciclos>\n",
    "    <ciclo id=\"ASIR\">\n",
    "      <nombre>Administración de Sistemas Informáticos en Red</nombre>\n",
    "      <grado>Superior</grado>\n",
    "      <decretoTitulo año=\"2009\" />\n",
    "    </ciclo>\n",
    "    <ciclo id=\"DAW\">\n",
    "      <nombre>Desarrollo de Aplicaciones Web</nombre>\n",
    "      <grado>Superior</grado>\n",
    "      <decretoTitulo año=\"2010\" />\n",
    "    </ciclo>\n",
    "    <ciclo id=\"SMR\">\n",
    "      <nombre>Sistemas Microinformáticos y Redes</nombre>\n",
    "      <grado>Medio</grado>\n",
    "      <decretoTitulo año=\"2008\" />\n",
    "    </ciclo>\n",
    " </ciclos>\n",
    "</ies>\n",
    "```"
   ]
  },
  {
   "cell_type": "markdown",
   "metadata": {},
   "source": [
    "#### CARGA DEL FICHERO XML."
   ]
  },
  {
   "cell_type": "code",
   "execution_count": 23,
   "metadata": {},
   "outputs": [],
   "source": [
    "# Parte común para todos los ejercicios, ejecutar siempre al principio\n",
    "from lxml import etree\n",
    "\n",
    "doc = etree.parse('./res/ciclos.xml')"
   ]
  },
  {
   "cell_type": "markdown",
   "metadata": {},
   "source": [
    "### Ejercicio 1 \n",
    "Mostrar el nombre del instituto\n"
   ]
  },
  {
   "cell_type": "code",
   "execution_count": null,
   "metadata": {},
   "outputs": [],
   "source": [
    "#Ejemplo de uso.. Mostrar el nombre sin etiquetas de los módulos que se imparten en el instituto.\n",
    "# >> sin etiquetas significa, obtener el valor de la etiqueta\n",
    "# doc.xpath('/ies/modulos/modulo/nombre/text()')\n",
    "\n",
    "# ==> Tu respuesta debajo\n"
   ]
  },
  {
   "cell_type": "markdown",
   "metadata": {},
   "source": [
    "### Ejercicio 2\n",
    "Mostrar la página web del instituto sin etiquetas"
   ]
  },
  {
   "cell_type": "code",
   "execution_count": null,
   "metadata": {},
   "outputs": [],
   "source": []
  },
  {
   "cell_type": "markdown",
   "metadata": {},
   "source": [
    "### Ejercicio 3\n",
    "Mostrar el nombre de los ciclos formativos sin etiquetas."
   ]
  },
  {
   "cell_type": "code",
   "execution_count": null,
   "metadata": {},
   "outputs": [],
   "source": []
  },
  {
   "cell_type": "markdown",
   "metadata": {},
   "source": [
    "### Ejercicio 4\n",
    "Mostrar los años en los que se publicaron los decretos de los ciclos formativos."
   ]
  },
  {
   "cell_type": "code",
   "execution_count": null,
   "metadata": {},
   "outputs": [],
   "source": []
  },
  {
   "cell_type": "markdown",
   "metadata": {},
   "source": [
    "### Ejercicio 5\n",
    "Mostrar toda la información de los ciclos formativos de grado medio."
   ]
  },
  {
   "cell_type": "code",
   "execution_count": null,
   "metadata": {},
   "outputs": [],
   "source": []
  },
  {
   "cell_type": "markdown",
   "metadata": {},
   "source": [
    "### Ejercicio 6\n",
    "Mostrar los nombres de los ciclos formativos de grado superior."
   ]
  },
  {
   "cell_type": "code",
   "execution_count": null,
   "metadata": {},
   "outputs": [],
   "source": []
  },
  {
   "cell_type": "markdown",
   "metadata": {},
   "source": [
    "### Ejercicio 7\n",
    "Mostrar los nombres de los ciclos formativos anteriores a 2010 sin etiquetas."
   ]
  },
  {
   "cell_type": "code",
   "execution_count": null,
   "metadata": {},
   "outputs": [],
   "source": []
  },
  {
   "cell_type": "markdown",
   "metadata": {},
   "source": [
    "### Ejercicio 8\n",
    "Mostrar los nombres de los ciclos formativos de 2008 o de 2010."
   ]
  },
  {
   "cell_type": "code",
   "execution_count": null,
   "metadata": {},
   "outputs": [],
   "source": []
  }
 ],
 "metadata": {
  "interpreter": {
   "hash": "ec9676ad9f5f678c6129e80930667ff10a4176bd4043345bcdc6bd53c57c67c7"
  },
  "kernelspec": {
   "display_name": "Python 3.9.10 64-bit (windows store)",
   "language": "python",
   "name": "python3"
  },
  "language_info": {
   "codemirror_mode": {
    "name": "ipython",
    "version": 3
   },
   "file_extension": ".py",
   "mimetype": "text/x-python",
   "name": "python",
   "nbconvert_exporter": "python",
   "pygments_lexer": "ipython3",
   "version": "3.9.10"
  },
  "orig_nbformat": 4
 },
 "nbformat": 4,
 "nbformat_minor": 2
}
