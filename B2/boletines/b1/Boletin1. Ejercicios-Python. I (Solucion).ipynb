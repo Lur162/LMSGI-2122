{
 "cells": [
  {
   "cell_type": "markdown",
   "metadata": {},
   "source": [
    "# Índice\n",
    "\n",
    "1. [Funciones](#funcions)\n",
    "2. [Trabajo con listas](#list)\n",
    "2. [Trabajo con diccionadrios](#dict)\n"
   ]
  },
  {
   "cell_type": "markdown",
   "metadata": {},
   "source": [
    "<a id=\"functions\"></a>\n",
    "# Funciones\n"
   ]
  },
  {
   "cell_type": "markdown",
   "metadata": {},
   "source": [
    "## 1º. Función Max()\n"
   ]
  },
  {
   "cell_type": "markdown",
   "metadata": {},
   "source": [
    "Definir una función max() que tome como argumento dos números y devuelva el mayor de ellos. (Es cierto que python tiene una función max() incorporada, pero hacerla nosotros mismos es un muy buen ejercicio.\n",
    "<!--  -->\n",
    "(Se debe incluir una casilla para definir la función, y otras casillas para los posibles casos)"
   ]
  },
  {
   "cell_type": "code",
   "execution_count": 3,
   "metadata": {},
   "outputs": [],
   "source": [
    "# definir funcion\n",
    "def max(a,b):\n",
    "    if (a>=b):\n",
    "        return a\n",
    "    else:\n",
    "        return b"
   ]
  },
  {
   "cell_type": "code",
   "execution_count": 6,
   "metadata": {},
   "outputs": [
    {
     "name": "stdout",
     "output_type": "stream",
     "text": [
      "max 7,20: 20\n",
      "max 5,3: 5\n"
     ]
    }
   ],
   "source": [
    "# Probar la funcion\n",
    "print(\"max 7,20:\", max(7,20))\n",
    "print(\"max 5,3:\", max(5,3))"
   ]
  },
  {
   "cell_type": "markdown",
   "metadata": {},
   "source": [
    "<a id=\"2\"></a>\n",
    "## 2º. Función Max() con 3 valores\n"
   ]
  },
  {
   "cell_type": "markdown",
   "metadata": {},
   "source": [
    "Definir una función max_de_tres(), que tome tres números como argumentos y devuelva el mayor de ellos."
   ]
  },
  {
   "cell_type": "code",
   "execution_count": null,
   "metadata": {},
   "outputs": [],
   "source": [
    "# una función con 3 parametros.\n",
    "def max3parametros(num1,num2,num3):\n",
    "\n",
    "    #agregamos los 3 números a la lista\n",
    "    listaNumeros = [num1,num2,num3]\n",
    "\n",
    "    mayor=0\n",
    "    # Iteramos por la lista para buscar si el nº procesado es mayor a la variable mayor\n",
    "    for num in listaNumeros:\n",
    "        if (num>mayor):\n",
    "            mayor=num\n",
    "\n",
    "    return mayor"
   ]
  },
  {
   "cell_type": "markdown",
   "metadata": {},
   "source": [
    "<a id=\"3\"></a>\n",
    "## 3º. Función Len()\n"
   ]
  },
  {
   "cell_type": "markdown",
   "metadata": {},
   "source": [
    "Definir una función que calcule la longitud de una lista o una cadena dada. (Es cierto que python tiene la función len() incorporada, pero escribirla por nosotros mismos resulta un muy buen ejercicio."
   ]
  },
  {
   "cell_type": "code",
   "execution_count": 2,
   "metadata": {},
   "outputs": [],
   "source": [
    "def calcularLongitud(lista):\n",
    "\n",
    "    longitud=0\n",
    "    for valor in lista:\n",
    "        longitud+=1\n",
    "\n",
    "    return longitud"
   ]
  },
  {
   "cell_type": "code",
   "execution_count": 3,
   "metadata": {},
   "outputs": [
    {
     "name": "stdout",
     "output_type": "stream",
     "text": [
      "Longitud cadena:  3\n",
      "Longitud lista numeros:  9\n"
     ]
    }
   ],
   "source": [
    "# Probar la funcion\n",
    "print(\"Longitud cadena: \", calcularLongitud(\"abc\"))\n",
    "print(\"Longitud lista numeros: \", calcularLongitud([1,2,3,4,5,6,7,8,9]))\n"
   ]
  },
  {
   "cell_type": "markdown",
   "metadata": {},
   "source": [
    "<a id=\"4\"></a>\n",
    "## 4º. EsVocal\n"
   ]
  },
  {
   "cell_type": "markdown",
   "metadata": {},
   "source": [
    "Escribir una función que tome un carácter y devuelva True si es una vocal, de lo contrario devuelve False."
   ]
  },
  {
   "cell_type": "code",
   "execution_count": 4,
   "metadata": {},
   "outputs": [],
   "source": [
    "# Definir la función\n",
    "def esVocal(letra):\n",
    "\n",
    "    #definimos una lista con todas las vocales\n",
    "    listaVocales = [\"a\",\"e\",\"i\",\"o\",\"u\",\"A\",\"E\",\"I\",\"O\",\"U\"]\n",
    "\n",
    "    #Comprobamos si la letra pasada como parámetro están dentro de la lista\n",
    "    if (letra in listaVocales):\n",
    "        return True\n",
    "    else:\n",
    "        return False"
   ]
  },
  {
   "cell_type": "code",
   "execution_count": 5,
   "metadata": {},
   "outputs": [
    {
     "name": "stdout",
     "output_type": "stream",
     "text": [
      "EsVocal la A:  True\n",
      "EsVocal la b:  False\n",
      "EsVocal la i:  True\n"
     ]
    }
   ],
   "source": [
    "# Probar la funcion\n",
    "print(\"EsVocal la A: \", esVocal(\"A\"))\n",
    "print(\"EsVocal la b: \", esVocal(\"b\"))\n",
    "print(\"EsVocal la i: \", esVocal(\"i\"))"
   ]
  },
  {
   "cell_type": "markdown",
   "metadata": {},
   "source": [
    "<a id=\"5\"></a>\n",
    "## 5º. Sumar y multiplicar\n"
   ]
  },
  {
   "cell_type": "markdown",
   "metadata": {},
   "source": [
    "Escribir una función sum() y una función multip() que sumen y multipliquen respectivamente todos los números de una lista. Por ejemplo: sum([1,2,3,4]) debería devolver 10 y multip([1,2,3,4]) debería devolver 24."
   ]
  },
  {
   "cell_type": "code",
   "execution_count": 15,
   "metadata": {},
   "outputs": [],
   "source": [
    "# Definir la función\n",
    "def sumNumerosLista(listaNumeros):\n",
    "\n",
    "    sumaTotal = 0\n",
    "    for num in listaNumeros:\n",
    "        sumaTotal+=num\n",
    "    \n",
    "    return sumaTotal\n",
    "\n",
    "def multiplicarNumerosLista(listaNumeros):\n",
    "\n",
    "    total = 1\n",
    "    for num in listaNumeros:\n",
    "        total*=num\n",
    "    \n",
    "    return total"
   ]
  },
  {
   "cell_type": "code",
   "execution_count": 16,
   "metadata": {},
   "outputs": [
    {
     "name": "stdout",
     "output_type": "stream",
     "text": [
      "Lista-suma-numeros:  190\n",
      "Lista-productos-numeros:  121645100408832000\n"
     ]
    }
   ],
   "source": [
    "# Probar la funcion\n",
    "#creamos una lista, de los 100 primeros números con la función \"range\"\n",
    "lista100nums = list(range(1,20))\n",
    "print(\"Lista-suma-numeros: \", sumNumerosLista(lista100nums))\n",
    "print(\"Lista-productos-numeros: \", multiplicarNumerosLista(lista100nums))"
   ]
  },
  {
   "cell_type": "markdown",
   "metadata": {},
   "source": [
    "<a id=\"6\"></a>\n",
    "## 6º. Invertir cadena\n"
   ]
  },
  {
   "cell_type": "markdown",
   "metadata": {},
   "source": [
    " Definir una función inversa() que calcule la inversión de una cadena. Por ejemplo la cadena \"estoy probando\" debería devolver la cadena \"odnaborp yotse\""
   ]
  },
  {
   "cell_type": "code",
   "execution_count": 18,
   "metadata": {},
   "outputs": [],
   "source": [
    "# Definir la función\n",
    "def invertirCadena(cadena):\n",
    "    return cadena[::-1]"
   ]
  },
  {
   "cell_type": "code",
   "execution_count": 19,
   "metadata": {},
   "outputs": [
    {
     "data": {
      "text/plain": [
       "'ogima'"
      ]
     },
     "execution_count": 19,
     "metadata": {},
     "output_type": "execute_result"
    }
   ],
   "source": [
    "# Probar la funcion\n",
    "invertirCadena(\"amigo\")"
   ]
  },
  {
   "cell_type": "markdown",
   "metadata": {},
   "source": [
    "<a id=\"7\"></a>\n",
    "## 7º. EsPalindromo\n"
   ]
  },
  {
   "cell_type": "markdown",
   "metadata": {},
   "source": [
    "  Definir una función es_palindromo() que reconoce palíndromos (es decir, palabras que tienen el mismo aspecto escritas invertidas), ejemplo: es_palindromo (\"radar\") tendría que devolver True."
   ]
  },
  {
   "cell_type": "code",
   "execution_count": 21,
   "metadata": {},
   "outputs": [],
   "source": [
    "# Definir la función\n",
    "def EsPalindromo(palabra):\n",
    "    return palabra == palabra[::-1]"
   ]
  },
  {
   "cell_type": "code",
   "execution_count": 24,
   "metadata": {},
   "outputs": [
    {
     "name": "stdout",
     "output_type": "stream",
     "text": [
      "EsPalindromo:  True\n"
     ]
    }
   ],
   "source": [
    "# Probar la funcion\n",
    "print(\"EsPalindromo: \", EsPalindromo(\"radar\"))"
   ]
  },
  {
   "cell_type": "markdown",
   "metadata": {},
   "source": [
    "<a id=\"8\"></a>\n",
    "## 8º. Superposición\n"
   ]
  },
  {
   "cell_type": "markdown",
   "metadata": {},
   "source": [
    "  Definir una función superposicion() que tome dos listas y devuelva True si tienen al menos 1 miembro en común o devuelva False de lo contrario. Escribir la función usando el bucle for anidado."
   ]
  },
  {
   "cell_type": "code",
   "execution_count": 26,
   "metadata": {},
   "outputs": [],
   "source": [
    "# Definir la función\n",
    "def superposicion(lista1,lista2):\n",
    "\n",
    "    for elementoLista1 in lista1:\n",
    "        if (elementoLista1 in lista2):\n",
    "            return True  # Hay un elemento en comun, pues no seguimos y salimos de la función\n",
    "\n",
    "    return False  # si llega aqui, es que no hay ningun elemento en comun"
   ]
  },
  {
   "cell_type": "code",
   "execution_count": 29,
   "metadata": {},
   "outputs": [
    {
     "name": "stdout",
     "output_type": "stream",
     "text": [
      "Hay superposición en las listas:  True\n"
     ]
    }
   ],
   "source": [
    "# Probar la funcion\n",
    "lista1 = [1,2,3,4]\n",
    "lista2 = [7,2,9,10]\n",
    "print(\"Hay superposición en las listas: \", superposicion(lista1,lista2))"
   ]
  },
  {
   "cell_type": "markdown",
   "metadata": {},
   "source": [
    "<a id=\"8\"></a>\n",
    "## 8º. Generar N carácteres\n"
   ]
  },
  {
   "cell_type": "markdown",
   "metadata": {},
   "source": [
    "Definir una función generar_n_caracteres() que tome un entero n y devuelva el caracter multiplicado por n. Por ejemplo: generar_n_caracteres(5, \"x\") debería devolver \"xxxxx\".  (Pista: multiplicar)\n"
   ]
  },
  {
   "cell_type": "code",
   "execution_count": 30,
   "metadata": {},
   "outputs": [],
   "source": [
    "# Definir la función\n",
    "def generate_n_carateres(veces,caracter):\n",
    "  return caracter * veces"
   ]
  },
  {
   "cell_type": "code",
   "execution_count": 31,
   "metadata": {},
   "outputs": [
    {
     "data": {
      "text/plain": [
       "'xxxxx'"
      ]
     },
     "execution_count": 31,
     "metadata": {},
     "output_type": "execute_result"
    }
   ],
   "source": [
    "# Probar la funcion\n",
    "generate_n_carateres(5,'x')"
   ]
  },
  {
   "cell_type": "markdown",
   "metadata": {},
   "source": [
    "<a id=\"9\"></a>\n",
    "## 9º. Histograma\n"
   ]
  },
  {
   "cell_type": "markdown",
   "metadata": {},
   "source": [
    "Definir un histograma procedimiento() que tome una lista de números enteros e imprima un histograma en la pantalla. Ejemplo: procedimiento([4, 9, 7]) debería imprimir lo siguiente: <br>\n",
    "++++<br>\n",
    "+++++++++<br>\n",
    "+++++++<br>\n"
   ]
  },
  {
   "cell_type": "code",
   "execution_count": 32,
   "metadata": {},
   "outputs": [],
   "source": [
    "# Definir la función\n",
    "def histograma(listaRepetir):\n",
    "  for num in listaRepetir:\n",
    "    print('*' * num)"
   ]
  },
  {
   "cell_type": "code",
   "execution_count": 33,
   "metadata": {},
   "outputs": [
    {
     "name": "stdout",
     "output_type": "stream",
     "text": [
      "*****\n",
      "*******\n",
      "*********\n"
     ]
    }
   ],
   "source": [
    "# Probar la funcion\n",
    "histograma([5,7,9])"
   ]
  },
  {
   "cell_type": "markdown",
   "metadata": {},
   "source": [
    "<a id=\"list\"></a>\n",
    "# Trabajo con listas\n",
    "\n",
    "[Ayuda sobre listas en python](https://www.w3schools.com/python/python_lists.asp)<br>\n",
    "[Página de Ejercicios](https://www.w3resource.com/python-exercises/list/)"
   ]
  },
  {
   "cell_type": "markdown",
   "metadata": {},
   "source": [
    "\n",
    "## 1º. Sumar elementos lista\n"
   ]
  },
  {
   "cell_type": "markdown",
   "metadata": {},
   "source": [
    "Definir una función para sumar todos los elementos de una lista pasada como parámetro\n"
   ]
  },
  {
   "cell_type": "code",
   "execution_count": 8,
   "metadata": {},
   "outputs": [],
   "source": [
    "# Definir la función\n",
    "# Definir la función\n",
    "def sumNumerosLista(listaNumeros):\n",
    "\n",
    "    sumaTotal = 0\n",
    "    for num in listaNumeros:\n",
    "        sumaTotal+=num\n",
    "    \n",
    "    return sumaTotal"
   ]
  },
  {
   "cell_type": "code",
   "execution_count": 7,
   "metadata": {},
   "outputs": [],
   "source": [
    "# Probar la funcion\n",
    "lista100nums = list(range(1,100))\n",
    "print(\"Lista-suma-numeros: \", sumNumerosLista(lista100nums))"
   ]
  },
  {
   "cell_type": "markdown",
   "metadata": {},
   "source": [
    "\n",
    "## 2º. Multiplicar elementos lista\n"
   ]
  },
  {
   "cell_type": "markdown",
   "metadata": {},
   "source": [
    "Definir una función para multiplicar todos los elementos de una lista pasada como parámetro\n"
   ]
  },
  {
   "cell_type": "code",
   "execution_count": 34,
   "metadata": {},
   "outputs": [],
   "source": [
    "# Definir la función\n",
    "def multiplicarNumerosLista(listaNumeros):\n",
    "\n",
    "    total = 1\n",
    "    for num in listaNumeros:\n",
    "        total*=num\n",
    "    \n",
    "    return total"
   ]
  },
  {
   "cell_type": "code",
   "execution_count": 35,
   "metadata": {},
   "outputs": [
    {
     "name": "stdout",
     "output_type": "stream",
     "text": [
      "Lista-productos-numeros:  121645100408832000\n"
     ]
    }
   ],
   "source": [
    "# Probar la funcion\n",
    "lista100nums = list(range(1,20))\n",
    "print(\"Lista-productos-numeros: \", multiplicarNumerosLista(lista100nums))"
   ]
  },
  {
   "cell_type": "markdown",
   "metadata": {},
   "source": [
    "\n",
    "## 3º. Obtener elemento mayor lista\n"
   ]
  },
  {
   "cell_type": "markdown",
   "metadata": {},
   "source": [
    "Definir una función que obtenga el elemento mayor de la lista pasada como parámetro\n"
   ]
  },
  {
   "cell_type": "code",
   "execution_count": 36,
   "metadata": {},
   "outputs": [],
   "source": [
    "# Definir la función\n",
    "def obtenerMayornumeroLista(listaNumeros):\n",
    "\n",
    "    mayor = 0\n",
    "    for num in listaNumeros:\n",
    "        if (num>mayor):\n",
    "            mayor=num\n",
    "    \n",
    "    return mayor"
   ]
  },
  {
   "cell_type": "code",
   "execution_count": 37,
   "metadata": {},
   "outputs": [
    {
     "name": "stdout",
     "output_type": "stream",
     "text": [
      "Lista-numero mayor  365\n"
     ]
    }
   ],
   "source": [
    "# Probar la funcion\n",
    "print(\"Lista-numero mayor \", obtenerMayornumeroLista([2,6,8,250,365,12]))"
   ]
  },
  {
   "cell_type": "markdown",
   "metadata": {},
   "source": [
    "\n",
    "## 4º. Cadenas mayores a 2 con inicio y fin iguales\n"
   ]
  },
  {
   "cell_type": "markdown",
   "metadata": {},
   "source": [
    "Definir una función que cuente el nº de cadenas que cumplan:<br> a) donde la longitud mínima de cadena debe ser 2<br> b) el primer y último carácter sean iguales<br><br>\n",
    "Ejemplo: ['abc', 'xyz', 'aba', '1221']<br>\n",
    "Resultado: 2\n"
   ]
  },
  {
   "cell_type": "code",
   "execution_count": 38,
   "metadata": {},
   "outputs": [],
   "source": [
    "# Definir la función\n",
    "def cadenasMayoresa2yInicioFinIguales(listaCadenas):\n",
    "\n",
    "    contador=0\n",
    "    for cadena in listaCadenas:\n",
    "        if (len(cadena)>2 and (cadena[0])==cadena[-1]):\n",
    "            contador+=1\n",
    "    \n",
    "    return contador"
   ]
  },
  {
   "cell_type": "code",
   "execution_count": 39,
   "metadata": {},
   "outputs": [
    {
     "name": "stdout",
     "output_type": "stream",
     "text": [
      "Cadenas cumplen condición  2\n"
     ]
    }
   ],
   "source": [
    "# Probar la funcion\n",
    "print(\"Cadenas cumplen condición \", cadenasMayoresa2yInicioFinIguales(['abc', 'xyz', 'aba', '1221']))"
   ]
  },
  {
   "cell_type": "markdown",
   "metadata": {},
   "source": [
    "\n",
    "## 5º. Ordenar lista por último elemento de la tupla\n"
   ]
  },
  {
   "cell_type": "markdown",
   "metadata": {},
   "source": [
    "Definir una función que reciba una lista de tuplas, y que ordene la lista por el útlimo elemento de la tupla<br><br>\n",
    "Lista a pasar : [(2, 5), (1, 2), (4, 4), (2, 3), (2, 1)]<br>\n",
    "Resultado-esperado : [(2, 1), (1, 2), (2, 3), (4, 4), (2, 5)]"
   ]
  },
  {
   "cell_type": "code",
   "execution_count": 40,
   "metadata": {},
   "outputs": [],
   "source": [
    "# Definir la función\n",
    "# Este ejercicio lo hacemos en 2 partes, una función que me retorno el 2º elemento de la tupla\n",
    "def obtener2ElementoTupla(tupla):\n",
    "    return tupla[1]\n",
    "\n",
    "\n",
    "def ordenar2elementoTupla(listaTuplas):\n",
    "    # utilizamos la función \"sorted\", que recibe una tupla, y en el parámetro \"key\" recibe una función de la cual obtiene el elemento por el cual ordenar\n",
    "    return sorted(listaTuplas,key=obtener2ElementoTupla)\n"
   ]
  },
  {
   "cell_type": "code",
   "execution_count": 41,
   "metadata": {},
   "outputs": [
    {
     "data": {
      "text/plain": [
       "[(2, 1), (1, 2), (2, 3), (4, 4), (2, 5)]"
      ]
     },
     "execution_count": 41,
     "metadata": {},
     "output_type": "execute_result"
    }
   ],
   "source": [
    "# Probar la funcion\n",
    "ordenar2elementoTupla([(2, 5), (1, 2), (4, 4), (2, 3), (2, 1)])"
   ]
  },
  {
   "cell_type": "markdown",
   "metadata": {},
   "source": [
    "\n",
    "## 6º. Eliminar duplicados en lista\n"
   ]
  },
  {
   "cell_type": "markdown",
   "metadata": {},
   "source": [
    "Definir una función que elimine los elementos duplicados de una lista"
   ]
  },
  {
   "cell_type": "code",
   "execution_count": 42,
   "metadata": {},
   "outputs": [],
   "source": [
    "# Definir la función\n",
    "def eliminarDuplicadosLista(lista):\n",
    "\n",
    "    #creamos otra lista, que será la que devolvemos.\n",
    "    listaNoRepetidos = []\n",
    "\n",
    "    #Procesmos la lista, e insertamos en la nueva lista SOLO si no está YA dentro de la lista de No-Repetidos\n",
    "    for elemento in lista:\n",
    "        if (elemento not in listaNoRepetidos):\n",
    "            listaNoRepetidos.append(elemento)\n",
    "    \n",
    "    return listaNoRepetidos"
   ]
  },
  {
   "cell_type": "code",
   "execution_count": 46,
   "metadata": {},
   "outputs": [
    {
     "name": "stdout",
     "output_type": "stream",
     "text": [
      "Estos son los elementos eliminando los duplicados:   [2, 5, 8, 9]\n"
     ]
    }
   ],
   "source": [
    "# Probar la funcion\n",
    "print(\"Estos son los elementos eliminando los duplicados:  \", eliminarDuplicadosLista([2,5,8,9,9,9,2,8]))\n"
   ]
  },
  {
   "cell_type": "markdown",
   "metadata": {},
   "source": [
    "\n",
    "## 7º. Lista vacia?\n"
   ]
  },
  {
   "cell_type": "markdown",
   "metadata": {},
   "source": [
    "Definir una función isEmpty que reciba como parametro una lista e indica si está vacia"
   ]
  },
  {
   "cell_type": "code",
   "execution_count": 48,
   "metadata": {},
   "outputs": [],
   "source": [
    "# Definir la función\n",
    "def esListaVacia(lista):\n",
    "    return len(lista)==0"
   ]
  },
  {
   "cell_type": "code",
   "execution_count": 49,
   "metadata": {},
   "outputs": [
    {
     "name": "stdout",
     "output_type": "stream",
     "text": [
      "Lista vacia?:  True\n",
      "Lista vacia?:  False\n"
     ]
    }
   ],
   "source": [
    "# Probar la funcion\n",
    "print(\"Lista vacia?: \",esListaVacia([]))\n",
    "print(\"Lista vacia?: \",esListaVacia([1,4,5]))"
   ]
  },
  {
   "cell_type": "markdown",
   "metadata": {},
   "source": [
    "\n",
    "## 8º. Primeros y últimos al cuadrado\n"
   ]
  },
  {
   "cell_type": "markdown",
   "metadata": {},
   "source": [
    "Escribir un programa/función que genera e imprime una lista de los primeros y últimos 5 elementos donde los valores son elevados al cuadrado. Generar los números entre 1 y 30 ambos incluidos.\n",
    "[Imagen ejemplo](https://www.w3resource.com/w3r_images/Python-data-type-list-excercise-16.png)"
   ]
  },
  {
   "cell_type": "code",
   "execution_count": 50,
   "metadata": {},
   "outputs": [],
   "source": [
    "# Definir la función\n",
    "\n",
    "def primerosYultimos5AlCuadrado(listaNumeros):\n",
    "\n",
    "    #cojo los 5 primeros de la lista\n",
    "    lista5primeros = listaNumeros[0:5]\n",
    "    #cojo los 5 últimos de la lista\n",
    "    lista5ultimos = listaNumeros[-5:]\n",
    "\n",
    "    lista5primerosCuadrado= []\n",
    "    lista5ultimosCuadrado= []\n",
    "\n",
    "    #genero otra lista elevnado al cuadro los primeros\n",
    "    for num in lista5primeros:\n",
    "        lista5primerosCuadrado.append(num**2)\n",
    "\n",
    "    #genero otra lista elevnado al cuadro los últimos\n",
    "    for num in lista5ultimos:\n",
    "        lista5ultimosCuadrado.append(num**2)\n",
    "\n",
    "    #Sumamos ambas listas\n",
    "    listaCompleta = lista5primerosCuadrado + lista5ultimosCuadrado\n",
    "\n",
    "    return listaCompleta\n"
   ]
  },
  {
   "cell_type": "code",
   "execution_count": 51,
   "metadata": {},
   "outputs": [
    {
     "data": {
      "text/plain": [
       "[1, 4, 9, 16, 25, 676, 729, 784, 841, 900]"
      ]
     },
     "execution_count": 51,
     "metadata": {},
     "output_type": "execute_result"
    }
   ],
   "source": [
    "# Probar la funcion\n",
    "listaNumeros = list(range(1,31))\n",
    "\n",
    "primerosYultimos5AlCuadrado(listaNumeros)"
   ]
  },
  {
   "cell_type": "markdown",
   "metadata": {},
   "source": [
    "\n",
    "## 9º. Concatenar elementos\n"
   ]
  },
  {
   "cell_type": "markdown",
   "metadata": {},
   "source": [
    "Definir una función para crear un lista concatenando a cada elemento de la lista, todos los números en una secuencia, desde 1 a N, siendo N pasado como parámetro.<br><br>\n",
    "Lista-ejemplo : ['p', 'q']<br>\n",
    "n =5<br>\n",
    "Resultado esperado : ['p1', 'q1', 'p2', 'q2', 'p3', 'q3', 'p4', 'q4', 'p5', 'q5']<br>"
   ]
  },
  {
   "cell_type": "code",
   "execution_count": 52,
   "metadata": {},
   "outputs": [],
   "source": [
    "# Definir la función\n",
    "def generarListaNumeros(paramLista,paramVeces):\n",
    "\n",
    "    listaResultado = []\n",
    "    for num in range(1,paramVeces+1):\n",
    "        for letra in paramLista:\n",
    "            listaResultado.append(letra+str(num))\n",
    "    \n",
    "    return listaResultado"
   ]
  },
  {
   "cell_type": "code",
   "execution_count": null,
   "metadata": {},
   "outputs": [],
   "source": [
    "# Probar la funcion\n",
    "generarListaNumeros(['p','q'],7)"
   ]
  },
  {
   "cell_type": "markdown",
   "metadata": {},
   "source": [
    "\n",
    "## 10º. Generar grupos de 5 elementos\n"
   ]
  },
  {
   "cell_type": "markdown",
   "metadata": {},
   "source": [
    "Definir una función que genere grupos de 5 consecutivos números dentro de una lista.<br>\n",
    "[Imagen ejemplo](https://www.w3resource.com/w3r_images/Python-data-type-list-excercise-44.png)<br>\n",
    "\n",
    "Se puede realizar de 2 formas:<br>\n",
    "a) con for y agregando a listas\n",
    "b) con listas comprimidas(https://www.w3schools.com/python/python_lists_comprehension.asp)"
   ]
  },
  {
   "cell_type": "code",
   "execution_count": 54,
   "metadata": {},
   "outputs": [],
   "source": [
    "# Definir la función\n",
    "def generarGrupos5Elementos(listaNumeros):\n",
    "\n",
    "    # Sera una lista, de listas de 5 elementos.\n",
    "    listaResultado = []\n",
    "\n",
    "    #Utilizamos el concepto \"rodaja\" de las lista. \n",
    "    #Simplemente, tenemos que ir definiendo los \"inicios y fin de la rodaja\"\n",
    "\n",
    "    rodajaInicio=0\n",
    "    rodajaFin=5\n",
    "\n",
    "    continuar=True\n",
    "\n",
    "    while (continuar):\n",
    "        #obtenemos la rodaja, y la agregamos a la lista final\n",
    "        listaResultado.append(listaNumeros[rodajaInicio:rodajaFin])\n",
    "\n",
    "        #Si, el índice fin de la siguiente rodaja a obtener, es mayor a la lista, salimos del Bucle\n",
    "        if (rodajaFin>=len(listaNumeros)):\n",
    "            continuar=False\n",
    "        \n",
    "        rodajaInicio=rodajaFin\n",
    "        rodajaFin+=5\n",
    "    \n",
    "    return listaResultado\n"
   ]
  },
  {
   "cell_type": "code",
   "execution_count": null,
   "metadata": {},
   "outputs": [],
   "source": [
    "# Probar la función\n",
    "listaNumeros = list(range(1,33))\n",
    "generarGrupos5Elementos(listaNumeros)"
   ]
  },
  {
   "cell_type": "markdown",
   "metadata": {},
   "source": [
    "<a id=\"dict\"></a>\n",
    "# Trabajo con diccionarios\n",
    "\n",
    "[Ayuda sobre diccionarios en python](https://www.w3schools.com/python/python_dictionaries.asp)"
   ]
  },
  {
   "cell_type": "markdown",
   "metadata": {},
   "source": [
    "\n",
    "## 1º. Operaciones básicas sobre diccionarios\n"
   ]
  },
  {
   "cell_type": "markdown",
   "metadata": {},
   "source": [
    "Definir un código para iterar sobre los elementos del siguiente diccionario\n",
    "\n",
    "Equipo = {'Rafa':'Científico de datos',\n",
    "         'Pedro':'Arquitecto de datos',\n",
    "         'Javier':'Ingeniero de datos',\n",
    "         'Antonio':'Director'}\n",
    "<br>        \n",
    "Imprimiendo la siguiente salida:<br>\n",
    "\n",
    "Rafa - Científico de datos<br>\n",
    "Pedro - Arquitecto de datos<br>\n",
    "Javier - Ingeniero de datos<br>\n",
    "Antonio - Director<br>"
   ]
  },
  {
   "cell_type": "code",
   "execution_count": 38,
   "metadata": {},
   "outputs": [
    {
     "name": "stdout",
     "output_type": "stream",
     "text": [
      "Rafa : Científico de datos\n",
      "Pedro : Arquitecto de datos\n",
      "Javier : Ingeniero de datos\n",
      "Antonio : Director\n"
     ]
    }
   ],
   "source": [
    "# Definir el código\n",
    "Equipo = {'Rafa':'Científico de datos',\n",
    "         'Pedro':'Arquitecto de datos',\n",
    "         'Javier':'Ingeniero de datos',\n",
    "         'Antonio':'Director'}\n",
    "\n",
    "# ITERACIÓN SOBRE UN DICCIONARIO\n",
    "for k,v in Equipo.items():\n",
    "    print(k,\":\",v)"
   ]
  },
  {
   "cell_type": "code",
   "execution_count": 40,
   "metadata": {},
   "outputs": [
    {
     "data": {
      "text/plain": [
       "'Arquitecto de datos'"
      ]
     },
     "execution_count": 40,
     "metadata": {},
     "output_type": "execute_result"
    }
   ],
   "source": [
    "# Otener el nombre del Equipo de Pedro\n",
    "Equipo[\"Pedro\"]"
   ]
  },
  {
   "cell_type": "markdown",
   "metadata": {},
   "source": [
    "\n",
    "## 2º. Concatenear diccionarios\n"
   ]
  },
  {
   "cell_type": "markdown",
   "metadata": {},
   "source": [
    "Definir una función para concatenar 2 diccionarios pasados como parámetros.  [Imagen ilustrativa](https://www.w3resource.com/w3r_images/python-data-type-dictionary-image-exercise-3.png)\n",
    "\n",
    "Ejemplo diccionario: dic1={1:10, 2:20} dic2={3:30, 4:40}\n",
    "\n",
    "Experado resultado: {1: 10, 2: 20, 3: 30, 4: 40, 5: 50, 6: 60}"
   ]
  },
  {
   "cell_type": "code",
   "execution_count": 39,
   "metadata": {},
   "outputs": [
    {
     "data": {
      "text/plain": [
       "{1: 10, 2: 20, 3: 30, 4: 40}"
      ]
     },
     "execution_count": 39,
     "metadata": {},
     "output_type": "execute_result"
    }
   ],
   "source": [
    "# Definir el código\n",
    "\n",
    "dic1={1:10, 2:20} \n",
    "dic2={3:30, 4:40}\n",
    "\n",
    "\n",
    "## FORMA-1\n",
    "def concatenateDictionarySimple(dict1,dict2):\n",
    "    dictConcatenado = dict1  #El primero diccionario se lo asingo a Diccionaro Contatenado\n",
    "    dictConcatenado.update(dict2)  #Le agrego el 2 diccinario\n",
    "\n",
    "    return dictConcatenado\n",
    "\n",
    "concatenateDictionarySimple(dic1,dic2)"
   ]
  },
  {
   "cell_type": "markdown",
   "metadata": {},
   "source": [
    "\n",
    "## 3º. Generar diccionario \n"
   ]
  },
  {
   "cell_type": "markdown",
   "metadata": {},
   "source": [
    "Definir una función que genere un diccionario que contiene un número entre (1 y N) en la forma (x,x*x).\n",
    "N se le pasa como parámetro\n",
    "\n",
    "Ejemplo: n = 5<br>\n",
    "Resultado esperado: {1: 1, 2: 4, 3: 9, 4: 16, 5: 25}"
   ]
  },
  {
   "cell_type": "code",
   "execution_count": 58,
   "metadata": {},
   "outputs": [],
   "source": [
    "# Definir el código\n",
    "\n",
    "def generarDiccionarioNum_NumCuadrado(n):\n",
    "    \n",
    "    dicResultado = {}\n",
    "    for value in range(1,n):\n",
    "        dicResultado.update({value:value*value})\n",
    "    \n",
    "    return dicResultado"
   ]
  },
  {
   "cell_type": "code",
   "execution_count": 59,
   "metadata": {},
   "outputs": [
    {
     "data": {
      "text/plain": [
       "{1: 1, 2: 4, 3: 9, 4: 16}"
      ]
     },
     "execution_count": 59,
     "metadata": {},
     "output_type": "execute_result"
    }
   ],
   "source": [
    "# Probar la función\n",
    "generarDiccionarioNum_NumCuadrado(5)"
   ]
  },
  {
   "cell_type": "markdown",
   "metadata": {},
   "source": [
    "\n",
    "## 4º. Generar diccionario de 2 listas\n"
   ]
  },
  {
   "cell_type": "markdown",
   "metadata": {},
   "source": [
    "Definir un código que genere un diccionario desde 2 listas. La 1ª lista serán las claves y la 2 lista serán los varlores<br>\n",
    "*pista: función zip*\n",
    "\n",
    "Ejemplo:<br>\n",
    "keys = ['red', 'green', 'blue']<br>\n",
    "values = ['#FF0000','#008000', '#0000FF']<br>\n",
    "Resultado esperado: {'red': '#FF0000', 'green': '#008000', 'blue': '#0000FF'}"
   ]
  },
  {
   "cell_type": "code",
   "execution_count": 62,
   "metadata": {},
   "outputs": [
    {
     "name": "stdout",
     "output_type": "stream",
     "text": [
      "{'red': '#FF0000', 'green': '#008000', 'blue': '#0000FF'}\n"
     ]
    }
   ],
   "source": [
    "# Definir el código\n",
    "keys = ['red', 'green', 'blue']\n",
    "values = ['#FF0000','#008000', '#0000FF']\n",
    "\n",
    "# Forma más sencilla\n",
    "\n",
    "#iterar sobre la lista de claves\n",
    "dicResultado = {}\n",
    "\n",
    "indice=0\n",
    "for key in keys:\n",
    "    #generar cada clave del diccionario con las claves, y con los valores accediendo al indice de la lista de valores\n",
    "    dicResultado.update({key: values[indice]})\n",
    "    indice+=1\n",
    "\n",
    "#Imprimir para ver el diccionario obtenido\n",
    "print(dicResultado)"
   ]
  },
  {
   "cell_type": "code",
   "execution_count": 66,
   "metadata": {},
   "outputs": [
    {
     "name": "stdout",
     "output_type": "stream",
     "text": [
      "{'red': '#FF0000', 'green': '#008000', 'blue': '#0000FF'}\n"
     ]
    }
   ],
   "source": [
    "# 3 formas más avanzadas\n",
    "# a) A traves de la función zip y crear un diccionario manualmente\n",
    "dicResultado = {}\n",
    "for k,v in zip(keys, values):\n",
    "    dicResultado.update({k:v})\n",
    "\n",
    "print(dicResultado)"
   ]
  },
  {
   "cell_type": "code",
   "execution_count": 59,
   "metadata": {},
   "outputs": [
    {
     "data": {
      "text/plain": [
       "{'red': '#FF0000', 'green': '#008000', 'blue': '#0000FF'}"
      ]
     },
     "execution_count": 59,
     "metadata": {},
     "output_type": "execute_result"
    }
   ],
   "source": [
    "# b) A traves de la función zip y la función dict\n",
    "dict(zip(keys, values))"
   ]
  },
  {
   "cell_type": "code",
   "execution_count": 72,
   "metadata": {},
   "outputs": [
    {
     "data": {
      "text/plain": [
       "{'red': '#FF0000', 'green': '#008000', 'blue': '#0000FF'}"
      ]
     },
     "execution_count": 72,
     "metadata": {},
     "output_type": "execute_result"
    }
   ],
   "source": [
    "# c) Con compresión de diccionarios\n",
    "{k:v for k,v in zip(keys,values)}"
   ]
  },
  {
   "cell_type": "markdown",
   "metadata": {},
   "source": [
    "\n",
    "## 5º. Generar diccionario desde String\n"
   ]
  },
  {
   "cell_type": "markdown",
   "metadata": {},
   "source": [
    "Definir un código que genere un diccionario desde una cadena pasada como parámetro, donde las Keys con las letras de la cadena, y el valor, el nº de veces que esa letra se repite<br>\n",
    "\n",
    "Ejemplo:<br>\n",
    "Ejemplo: 'w3resource'<br>\n",
    "Restulado Esperado: {'w': 1, '3': 1, 'r': 2, 'e': 2, 's': 1, 'o': 1, 'u': 1, 'c': 1}"
   ]
  },
  {
   "cell_type": "code",
   "execution_count": 64,
   "metadata": {},
   "outputs": [
    {
     "name": "stdout",
     "output_type": "stream",
     "text": [
      "{'w': 1, '3': 1, 'r': 2, 'e': 2, 's': 1, 'o': 1, 'u': 1, 'c': 1}\n"
     ]
    }
   ],
   "source": [
    "# Definir el código\n",
    "palabra = 'w3resource' \n",
    "dicResultado = {}\n",
    "for letra in palabra:\n",
    "\n",
    "    #creamos una clave por cada letra de la cadena.\n",
    "    # >> Si una letra ya existe, se le suma las apariciones, por eso se utiliza la función \".get(letra,0)\", que obtiene el valor \n",
    "    #    de esa clave en el dicciario, y recibe una parámetro con un valor por defecto, en caso de que esa clave no exista.\n",
    "    dicResultado[letra] = dicResultado.get(letra, 0) + 1\n",
    "    \n",
    "print(dicResultado)"
   ]
  },
  {
   "cell_type": "markdown",
   "metadata": {},
   "source": [
    "\n",
    "## 6º. Filtrar un diccionario sobre un valor\n"
   ]
  },
  {
   "cell_type": "markdown",
   "metadata": {},
   "source": [
    "Definir un función que filtre un diccionario pasado como parámetro y que devuelva otro diccionario que solo contenga los elementos cuyo valor sean mayores a ese valor.<br>\n",
    "\n",
    "Ejemplo: Mayor que 174<br>\n",
    "Ejemplo: toneladas = {'Alonso': 175, 'Juan': 180, 'Andres': 165, 'Ramon': 190}<br>\n",
    "Restulado Esperado:  {'Alonso': 175, 'Juan': 180, Ramon': 190}"
   ]
  },
  {
   "cell_type": "code",
   "execution_count": 65,
   "metadata": {},
   "outputs": [],
   "source": [
    "# definir el código\n",
    "\n",
    "#forma simple\n",
    "def filterDicByNumber_Simple(dicParametro, mayorQue):\n",
    "\n",
    "    dicResultado={}\n",
    "    #procesar el diccionario  ==> el métodos items() devuelve el par \"clave, valor\"\n",
    "    for clave,valor in dicParametro.items():\n",
    "        if (valor>mayorQue):\n",
    "            dicResultado[clave]=valor\n",
    "\n",
    "    return dicResultado\n",
    "\n",
    "def filterDicByNumber_Comprimida(dicParametro, mayorQue):\n",
    "\n",
    "    \n",
    "    #procesar el diccionario  ==> el métodos items() devuelve el par \"clave, valor\"\n",
    "    #En este paso, procesamos el diccionario, realizamos la comparación, y creamos el nuevo diccionario ==> todo en 1 solo paso \n",
    "    # ==> por eso se llama \"diccionario comprimido\"\n",
    "    dicResultado= {clave:valor for clave,valor in dicParametro.items() if valor > mayorQue}\n",
    "\n",
    "    return dicResultado\n"
   ]
  },
  {
   "cell_type": "code",
   "execution_count": 66,
   "metadata": {},
   "outputs": [
    {
     "name": "stdout",
     "output_type": "stream",
     "text": [
      "Claves con contenido mayorQue:  {'Juan': 180, 'Ramon': 190}\n",
      "Claves con contenido mayorQue:  {'Juan': 180, 'Ramon': 190}\n"
     ]
    }
   ],
   "source": [
    "# Probar el código\n",
    "toneladas = {'Alonso': 175, 'Juan': 180, 'Andres': 165, 'Ramon': 190}\n",
    "print(\"Claves con contenido mayorQue: \",filterDicByNumber_Simple(toneladas,179))\n",
    "print(\"Claves con contenido mayorQue: \",filterDicByNumber_Comprimida(toneladas,179))"
   ]
  },
  {
   "cell_type": "markdown",
   "metadata": {},
   "source": [
    "\n",
    "## 7º. Diccionarios anidados\n"
   ]
  },
  {
   "cell_type": "markdown",
   "metadata": {},
   "source": [
    "Definir un función que filtre un diccionario pasado como parámetro y que devuelva otro diccionario que solo contenga los elementos cuyo valor sean mayores a ese valor.<br>\n",
    "El diccionario pasado es un diccionario anidado, de la siguiente forma:<br>\n",
    "\n",
    "{\n",
    "  \"Juan\": {\n",
    "    \"altura\": 170,\n",
    "    \"peso\": 70\n",
    "  },\n",
    "  \"Alberto\": {\n",
    "    \"altura\": 185,\n",
    "    \"peso\": 90\n",
    "  },\n",
    "  \"Manuel\": {\n",
    "    \"altura\": 160,\n",
    "    \"peso\": 65\n",
    "  }\n",
    "}\n",
    "\n",
    "Definir una función que filter por la altura, y otra función que filter por el peso.\n",
    "*Se deverá devolver aquellos estudiantes que superen el peso o la altura*"
   ]
  },
  {
   "cell_type": "code",
   "execution_count": 67,
   "metadata": {},
   "outputs": [],
   "source": [
    "# definir el código\n",
    "\n",
    "def filterDicByAltura(dic, altura):\n",
    "    dicResultado = {}\n",
    "    \n",
    "    for amigo,info in amigos.items():\n",
    "        for k,v in info.items():\n",
    "            if (info['altura']>altura):\n",
    "                dicResultado[amigo] = info\n",
    "    \n",
    "    return dicResultado"
   ]
  },
  {
   "cell_type": "code",
   "execution_count": 68,
   "metadata": {},
   "outputs": [
    {
     "data": {
      "text/plain": [
       "{'Juan': {'altura': 170, 'peso': 70}, 'Alberto': {'altura': 185, 'peso': 90}}"
      ]
     },
     "execution_count": 68,
     "metadata": {},
     "output_type": "execute_result"
    }
   ],
   "source": [
    "# Probar el código\n",
    "\n",
    "amigos = {\n",
    "  \"Juan\": {\n",
    "    \"altura\": 170,\n",
    "    \"peso\": 70\n",
    "  },\n",
    "  \"Alberto\": {\n",
    "    \"altura\": 185,\n",
    "    \"peso\": 90\n",
    "  },\n",
    "  \"Manuel\": {\n",
    "    \"altura\": 160,\n",
    "    \"peso\": 65\n",
    "  }\n",
    "}\n",
    "\n",
    "filterDicByAltura(amigos,165)\n"
   ]
  },
  {
   "cell_type": "code",
   "execution_count": 69,
   "metadata": {},
   "outputs": [],
   "source": [
    "# definir el código\n",
    "\n",
    "def filterDicByPeso(dic, peso):\n",
    "    dicResultado = {}\n",
    "    \n",
    "    for amigo,info in amigos.items():\n",
    "        for k,v in info.items():\n",
    "            if (info['peso']>peso):\n",
    "                dicResultado[amigo] = info\n",
    "    \n",
    "    return dicResultado"
   ]
  },
  {
   "cell_type": "code",
   "execution_count": 70,
   "metadata": {},
   "outputs": [
    {
     "data": {
      "text/plain": [
       "{'Alberto': {'altura': 185, 'peso': 90}}"
      ]
     },
     "execution_count": 70,
     "metadata": {},
     "output_type": "execute_result"
    }
   ],
   "source": [
    "# Probar el código\n",
    "filterDicByPeso(amigos,89)\n"
   ]
  }
 ],
 "metadata": {
  "kernelspec": {
   "display_name": "Python 3",
   "language": "python",
   "name": "python3"
  },
  "language_info": {
   "codemirror_mode": {
    "name": "ipython",
    "version": 3
   },
   "file_extension": ".py",
   "mimetype": "text/x-python",
   "name": "python",
   "nbconvert_exporter": "python",
   "pygments_lexer": "ipython3",
   "version": "3.9.10"
  }
 },
 "nbformat": 4,
 "nbformat_minor": 2
}
