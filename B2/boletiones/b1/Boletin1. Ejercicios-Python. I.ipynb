{
 "cells": [
  {
   "cell_type": "markdown",
   "metadata": {},
   "source": [
    "# Índice\n",
    "\n",
    "1. [Funciones](#funcions)\n",
    "2. [Trabajo con listas](#list)\n",
    "2. [Trabajo con diccionadrios](#dict)\n"
   ]
  },
  {
   "cell_type": "markdown",
   "metadata": {},
   "source": [
    "<a id=\"functions\"></a>\n",
    "# Funciones\n"
   ]
  },
  {
   "cell_type": "markdown",
   "metadata": {},
   "source": [
    "## 1º. Función Max()\n"
   ]
  },
  {
   "cell_type": "markdown",
   "metadata": {},
   "source": [
    "Definir una función max() que tome como argumento dos números y devuelva el mayor de ellos. (Es cierto que python tiene una función max() incorporada, pero hacerla nosotros mismos es un muy buen ejercicio.\n",
    "<!--  -->\n",
    "(Se debe incluir una casilla para definir la función, y otras casillas para los posibles casos)"
   ]
  },
  {
   "cell_type": "code",
   "execution_count": 3,
   "metadata": {},
   "outputs": [
    {
     "name": "stdout",
     "output_type": "stream",
     "text": [
      "[{'manuel': 'rodrigo', 'a': 'a1'}]\n"
     ]
    }
   ],
   "source": [
    "# definir funcion\n",
    "def maximo1(a,b):\n",
    "  if (a>=b):\n",
    "    return a\n",
    "  return b\n"
   ]
  },
  {
   "cell_type": "code",
   "execution_count": null,
   "metadata": {},
   "outputs": [],
   "source": [
    "# Probar la funcion\n",
    "print(\"max 7,20:\", maximo1(7,20))\n",
    "print(\"max 5,3:\", maximo1(5,3))"
   ]
  },
  {
   "cell_type": "markdown",
   "metadata": {},
   "source": [
    "<a id=\"2\"></a>\n",
    "## 2º. Función Max() con 3 valores\n"
   ]
  },
  {
   "cell_type": "markdown",
   "metadata": {},
   "source": [
    "Definir una función max_de_tres(), que tome tres números como argumentos y devuelva el mayor de ellos."
   ]
  },
  {
   "cell_type": "code",
   "execution_count": 27,
   "metadata": {},
   "outputs": [
    {
     "name": "stdout",
     "output_type": "stream",
     "text": [
      "12\n",
      "14\n"
     ]
    }
   ],
   "source": [
    "def mayorDe3Con3Parametros(a,b,c):\n",
    "  if (a>b and a>c):\n",
    "    return a\n",
    "  if (b>a and b>c):\n",
    "    return b\n",
    "\n",
    "  return c\n",
    "\n",
    "print(mayorDe3Con3Parametros(11,10,12))\n",
    "\n",
    "def mayorDe4Con4Parametros(a,b,c,d):\n",
    "  if (a>b and a>c and a>d):\n",
    "    return a\n",
    "  if (b>a and b>c and b>d):\n",
    "    return b\n",
    "\n",
    "  if (c>a and c>b and c>d):\n",
    "      return c\n",
    "\n",
    "  return d\n",
    "\n",
    "print(mayorDe4Con4Parametros(11,14,12,7))"
   ]
  },
  {
   "cell_type": "code",
   "execution_count": 30,
   "metadata": {},
   "outputs": [
    {
     "data": {
      "text/plain": [
       "12"
      ]
     },
     "execution_count": 30,
     "metadata": {},
     "output_type": "execute_result"
    }
   ],
   "source": [
    "def mayorDe3(lista):\n",
    "  \n",
    "  max = 0\n",
    "  for n in lista:\n",
    "    if (max<n):\n",
    "      max=n\n",
    "  \n",
    "  return max\n",
    "\n",
    "lista = [3,7,1,6,7,8,9,3,12]\n",
    "mayorDe3(lista)"
   ]
  },
  {
   "cell_type": "markdown",
   "metadata": {},
   "source": [
    "<a id=\"3\"></a>\n",
    "## 3º. Función Len()\n"
   ]
  },
  {
   "cell_type": "markdown",
   "metadata": {},
   "source": [
    "Definir una función que calcule la longitud de una lista o una cadena dada. (Es cierto que python tiene la función len() incorporada, pero escribirla por nosotros mismos resulta un muy buen ejercicio."
   ]
  },
  {
   "cell_type": "code",
   "execution_count": null,
   "metadata": {},
   "outputs": [],
   "source": [
    "def longitud(elemento):\n",
    "  conta=0\n",
    "  for item in elemento:\n",
    "    conta+=1\n",
    "  return conta"
   ]
  },
  {
   "cell_type": "code",
   "execution_count": null,
   "metadata": {},
   "outputs": [],
   "source": [
    "# Probar la funcion\n",
    "print(longitud(\"hola\"))\n",
    "print(longitud([1,2,3,4]))"
   ]
  },
  {
   "cell_type": "markdown",
   "metadata": {},
   "source": [
    "<a id=\"4\"></a>\n",
    "## 4º. EsVocal\n"
   ]
  },
  {
   "cell_type": "markdown",
   "metadata": {},
   "source": [
    "Escribir una función que tome un carácter y devuelva True si es una vocal, de lo contrario devuelve False."
   ]
  },
  {
   "cell_type": "code",
   "execution_count": null,
   "metadata": {},
   "outputs": [],
   "source": [
    "# Definir la función\n",
    "def isVocal(param):\n",
    "  if (param=='a' or param=='e' or )\n",
    "  return True"
   ]
  },
  {
   "cell_type": "markdown",
   "metadata": {},
   "source": [
    "<a id=\"5\"></a>\n",
    "## 5º. Sumar y multiplicar\n"
   ]
  },
  {
   "cell_type": "markdown",
   "metadata": {},
   "source": [
    "Escribir una función sum() y una función multip() que sumen y multipliquen respectivamente todos los números de una lista. Por ejemplo: sum([1,2,3,4]) debería devolver 10 y multip([1,2,3,4]) debería devolver 24."
   ]
  },
  {
   "cell_type": "code",
   "execution_count": 33,
   "metadata": {},
   "outputs": [
    {
     "name": "stdout",
     "output_type": "stream",
     "text": [
      "30\n"
     ]
    }
   ],
   "source": [
    "# Definir la función\n",
    "\n",
    "def sumListaNumeros(listaNumeros):\n",
    "  sumaTotal=0\n",
    "  for num in listaNumeros:\n",
    "    sumaTotal=sumaTotal+num\n",
    "  \n",
    "  return sumaTotal\n",
    "\n",
    "def mulList(lista):\n",
    "  result=1\n",
    "  for n in lista:\n",
    "    result*=n\n",
    "\n",
    "  return result\n",
    "\n",
    "\n",
    "misnumeros = [1,5,7,8,9]\n",
    "print(sumListaNumeros(misnumeros))"
   ]
  },
  {
   "cell_type": "code",
   "execution_count": null,
   "metadata": {},
   "outputs": [],
   "source": [
    "# Probar la funcion\n",
    "mulList([0,1,4,7,9])"
   ]
  },
  {
   "cell_type": "markdown",
   "metadata": {},
   "source": [
    "<a id=\"6\"></a>\n",
    "## 6º. Invertir cadena\n"
   ]
  },
  {
   "cell_type": "markdown",
   "metadata": {},
   "source": [
    " Definir una función inversa() que calcule la inversión de una cadena. Por ejemplo la cadena \"estoy probando\" debería devolver la cadena \"odnaborp yotse\""
   ]
  },
  {
   "cell_type": "code",
   "execution_count": 38,
   "metadata": {},
   "outputs": [
    {
     "data": {
      "text/plain": [
       "'radar'"
      ]
     },
     "execution_count": 38,
     "metadata": {},
     "output_type": "execute_result"
    }
   ],
   "source": [
    "\"Hola\"\n",
    "\n",
    "\"aloH\"\n",
    "\n",
    "# Definir la función\n",
    "def invertirCadena(palabraInvertir):\n",
    "  i = len(palabraInvertir)-1\n",
    "  palabraInvertida = \"\"\n",
    "  while (i>=0):\n",
    "    palabraInvertida=palabraInvertida+palabraInvertir[i]\n",
    "    i=i-1\n",
    "\n",
    "  return palabraInvertida\n",
    "\n",
    "invertirCadena(\"radar\")"
   ]
  },
  {
   "cell_type": "code",
   "execution_count": null,
   "metadata": {},
   "outputs": [],
   "source": [
    "# Probar la funcion"
   ]
  },
  {
   "cell_type": "markdown",
   "metadata": {},
   "source": [
    "<a id=\"7\"></a>\n",
    "## 7º. EsPalindromo\n"
   ]
  },
  {
   "cell_type": "markdown",
   "metadata": {},
   "source": [
    "  Definir una función es_palindromo() que reconoce palíndromos (es decir, palabras que tienen el mismo aspecto escritas invertidas), ejemplo: es_palindromo (\"radar\") tendría que devolver True."
   ]
  },
  {
   "cell_type": "code",
   "execution_count": 35,
   "metadata": {},
   "outputs": [],
   "source": [
    "# Definir la función\n",
    "def invertirCadena(palabraInvertir):\n",
    "  i = len(palabraInvertir)-1\n",
    "  palabraInvertida = \"\"\n",
    "  while (i>=0):\n",
    "    palabraInvertida=palabraInvertida+palabraInvertir[i]\n",
    "    i=i-1\n",
    "\n",
    "  return palabraInvertida\n",
    "\n",
    "# Definir la función\n",
    "def EsPalindromo(palabra):\n",
    "  if (palabra == invertirCadena(palabra)):\n",
    "    return True\n",
    "  return False"
   ]
  },
  {
   "cell_type": "code",
   "execution_count": 37,
   "metadata": {},
   "outputs": [
    {
     "data": {
      "text/plain": [
       "True"
      ]
     },
     "execution_count": 37,
     "metadata": {},
     "output_type": "execute_result"
    }
   ],
   "source": [
    "# Probar la funcion\n",
    "EsPalindromo(\"radar\")"
   ]
  },
  {
   "cell_type": "markdown",
   "metadata": {},
   "source": [
    "<a id=\"8\"></a>\n",
    "## 8º. Superposición\n"
   ]
  },
  {
   "cell_type": "markdown",
   "metadata": {},
   "source": [
    "  Definir una función superposicion() que tome dos listas y devuelva True si tienen al menos 1 miembro en común o devuelva False de lo contrario. Escribir la función usando el bucle for anidado."
   ]
  },
  {
   "cell_type": "code",
   "execution_count": null,
   "metadata": {},
   "outputs": [],
   "source": [
    "\n",
    "\n",
    "\n",
    "\n",
    "# Definir la función\n",
    "def superposicion(lista1,lista2):\n",
    "  elemShare = False\n",
    "  for n in lista1:\n",
    "    if n in lista2:\n",
    "      return True;\n",
    "  return False"
   ]
  },
  {
   "cell_type": "code",
   "execution_count": null,
   "metadata": {},
   "outputs": [],
   "source": [
    "# Probar la funcion\n",
    "superposicion([1,2,3],[6,4,5])"
   ]
  },
  {
   "cell_type": "markdown",
   "metadata": {},
   "source": [
    "<a id=\"8\"></a>\n",
    "## 8º. Generar N carácteres\n"
   ]
  },
  {
   "cell_type": "markdown",
   "metadata": {},
   "source": [
    "Definir una función generar_n_caracteres() que tome un entero n y devuelva el caracter multiplicado por n. Por ejemplo: generar_n_caracteres(5, \"x\") debería devolver \"xxxxx\".  (Pista: multiplicar)\n"
   ]
  },
  {
   "cell_type": "code",
   "execution_count": 46,
   "metadata": {},
   "outputs": [],
   "source": [
    "# Definir la función\n",
    "def generar_n_caracteres(vecesRepetir, caracterRepetir):\n",
    "  i=0\n",
    "  valorRetorno = \"\"\n",
    "  while (i<=vecesRepetir):\n",
    "    valorRetorno=valorRetorno+caracterRepetir\n",
    "    i+=1\n",
    "\n",
    "  return valorRetorno"
   ]
  },
  {
   "cell_type": "code",
   "execution_count": 49,
   "metadata": {},
   "outputs": [
    {
     "data": {
      "text/plain": [
       "'bbbbbbbbbbbbbbbbbbbbb'"
      ]
     },
     "execution_count": 49,
     "metadata": {},
     "output_type": "execute_result"
    }
   ],
   "source": [
    "# Probar la funcion\n",
    "generar_n_caracteres(20,\"b\")"
   ]
  },
  {
   "cell_type": "markdown",
   "metadata": {},
   "source": [
    "<a id=\"9\"></a>\n",
    "## 9º. Histograma\n"
   ]
  },
  {
   "cell_type": "markdown",
   "metadata": {},
   "source": [
    "Definir un histograma procedimiento() que tome una lista de números enteros e imprima un histograma en la pantalla. Ejemplo: procedimiento([4, 9, 7]) debería imprimir lo siguiente: <br>\n",
    "++++<br>\n",
    "+++++++++<br>\n",
    "+++++++<br>\n"
   ]
  },
  {
   "cell_type": "code",
   "execution_count": 53,
   "metadata": {},
   "outputs": [],
   "source": [
    "# Definir la función\n",
    "def generar_n_caracteres(vecesRepetir, caracterRepetir):\n",
    "  i=0\n",
    "  valorRetorno = \"\"\n",
    "  while (i<vecesRepetir):\n",
    "    valorRetorno=valorRetorno+caracterRepetir\n",
    "    i+=1\n",
    "\n",
    "  return valorRetorno\n",
    "\n",
    "def generarHistograma(listaNumLineas):\n",
    "  for num in listaNumLineas:\n",
    "    cadenaGenerada = generar_n_caracteres(num,'+')\n",
    "    print(cadenaGenerada)"
   ]
  },
  {
   "cell_type": "code",
   "execution_count": 54,
   "metadata": {},
   "outputs": [
    {
     "name": "stdout",
     "output_type": "stream",
     "text": [
      "+\n",
      "+++++\n",
      "++++++++++++++++++++\n",
      "+++++++++++++++++++++++++++++++++++++++++++++\n",
      "+++++++\n"
     ]
    }
   ],
   "source": [
    "# Probar la funcion\n",
    "listaN = [1,5,20,45,7]\n",
    "generarHistograma(listaN)"
   ]
  },
  {
   "cell_type": "markdown",
   "metadata": {},
   "source": [
    "<a id=\"list\"></a>\n",
    "# Trabajo con listas\n",
    "\n",
    "[Ayuda sobre listas en python](https://www.w3schools.com/python/python_lists.asp)<br><br>"
   ]
  },
  {
   "cell_type": "markdown",
   "metadata": {},
   "source": [
    "\n",
    "## 1º. Sumar elementos lista\n"
   ]
  },
  {
   "cell_type": "markdown",
   "metadata": {},
   "source": [
    "Definir una función para sumar todos los elementos de una lista pasada como parámetro\n"
   ]
  },
  {
   "cell_type": "code",
   "execution_count": null,
   "metadata": {},
   "outputs": [],
   "source": [
    "# Definir la función"
   ]
  },
  {
   "cell_type": "code",
   "execution_count": null,
   "metadata": {},
   "outputs": [],
   "source": [
    "# Probar la funcion"
   ]
  },
  {
   "cell_type": "markdown",
   "metadata": {},
   "source": [
    "\n",
    "## 2º. Multiplicar elementos lista\n"
   ]
  },
  {
   "cell_type": "markdown",
   "metadata": {},
   "source": [
    "Definir una función para multiplicar todos los elementos de una lista pasada como parámetro\n"
   ]
  },
  {
   "cell_type": "code",
   "execution_count": null,
   "metadata": {},
   "outputs": [],
   "source": [
    "# Definir la función"
   ]
  },
  {
   "cell_type": "code",
   "execution_count": null,
   "metadata": {},
   "outputs": [],
   "source": [
    "# Probar la funcion"
   ]
  },
  {
   "cell_type": "markdown",
   "metadata": {},
   "source": [
    "\n",
    "## 3º. Obtener elemento mayor lista\n"
   ]
  },
  {
   "cell_type": "markdown",
   "metadata": {},
   "source": [
    "Definir una función que obtenga el elemento mayor de la lista pasada como parámetro\n"
   ]
  },
  {
   "cell_type": "code",
   "execution_count": null,
   "metadata": {},
   "outputs": [],
   "source": [
    "# Definir la función"
   ]
  },
  {
   "cell_type": "code",
   "execution_count": null,
   "metadata": {},
   "outputs": [],
   "source": [
    "# Probar la funcion"
   ]
  },
  {
   "cell_type": "markdown",
   "metadata": {},
   "source": [
    "\n",
    "## 4º. Cadenas mayores a 2 con inicio y fin iguales\n"
   ]
  },
  {
   "cell_type": "markdown",
   "metadata": {},
   "source": [
    "Definir una función que cuente el nº de cadenas que cumplan:<br> a) donde la longitud mínima de cadena debe ser 2<br> b) el primer y último carácter sean iguales<br><br>\n",
    "Ejemplo: ['abc', 'xyz', 'aba', '1221']<br>\n",
    "Resultado: 2\n"
   ]
  },
  {
   "cell_type": "code",
   "execution_count": 52,
   "metadata": {},
   "outputs": [
    {
     "data": {
      "text/plain": [
       "2"
      ]
     },
     "execution_count": 52,
     "metadata": {},
     "output_type": "execute_result"
    }
   ],
   "source": [
    "# Definir la función\n",
    "lista = ['maria', 'raul', 'radar', 'teruelt']\n",
    "\n",
    "def contaPalabrasConFiltro(lista):\n",
    "  numContador=0\n",
    "\n",
    "  for palabra in lista:\n",
    "\n",
    "    if (len(palabra)>=2) and palabra[0]==palabra[len(palabra)-1]:\n",
    "      numContador+=1\n",
    "\n",
    "  return numContador\n",
    "\n",
    "\n",
    "contaPalabrasConFiltro(lista)"
   ]
  },
  {
   "cell_type": "code",
   "execution_count": 55,
   "metadata": {},
   "outputs": [],
   "source": [
    "# Definir la función\n",
    "lista = ['maria', 'raul', 'radar', 'teruelt']\n",
    "\n",
    "def comprabarLista(listaPalabras):\n",
    "  listaFinal = []\n",
    "\n",
    "  for palabra in listaPalabras:\n",
    "    if len(palabra)>2:\n",
    "      if palabra[0] == palabra[-1]:\n",
    "        listaFinal.append(palabra)\n",
    "\n",
    "  return listaFinal\n",
    "        "
   ]
  },
  {
   "cell_type": "code",
   "execution_count": 57,
   "metadata": {},
   "outputs": [
    {
     "data": {
      "text/plain": [
       "['teruelt']"
      ]
     },
     "execution_count": 57,
     "metadata": {},
     "output_type": "execute_result"
    }
   ],
   "source": [
    "# Probar la funcion\n",
    "lista = ['maria', 'raul', 'rr', 'teruelt']\n",
    "\n",
    "comprabarLista(lista)\n"
   ]
  },
  {
   "cell_type": "markdown",
   "metadata": {},
   "source": [
    "\n",
    "## 5º. Ordenar lista por último elemento de la tupla\n"
   ]
  },
  {
   "cell_type": "markdown",
   "metadata": {},
   "source": [
    "Definir una función que reciba una lista de tuplas, y que ordene la lista por el útlimo elemento de la tupla<br><br>\n",
    "Lista a pasar : [(2, 5), (1, 2), (4, 4), (2, 3), (2, 1)]<br>\n",
    "Resultado-esperado : [(2, 1), (1, 2), (2, 3), (4, 4), (2, 5)]"
   ]
  },
  {
   "cell_type": "code",
   "execution_count": 79,
   "metadata": {},
   "outputs": [
    {
     "data": {
      "text/plain": [
       "[(2, 1), (1, 2), (2, 3), (4, 4), (2, 5)]"
      ]
     },
     "execution_count": 79,
     "metadata": {},
     "output_type": "execute_result"
    }
   ],
   "source": [
    "# Definir la función\n",
    "\n",
    "lista = [(2, 5), (1, 2), (4, 4), (2, 3), (2, 1)]\n",
    "\n",
    "def MyFn(a):\n",
    "  return a[1]\n",
    "\n",
    "sorted(lista, key=MyFn)"
   ]
  },
  {
   "cell_type": "code",
   "execution_count": 78,
   "metadata": {},
   "outputs": [
    {
     "name": "stdout",
     "output_type": "stream",
     "text": [
      "hola 2\n",
      "hola 6\n",
      "hola 5\n"
     ]
    }
   ],
   "source": [
    "\n",
    "def impremeHola(num):\n",
    "  print(\"hola\",num[1])\n",
    "\n",
    "def sorteda(lista,func):\n",
    "  for item in lista:\n",
    "    func(item)\n",
    "\n",
    "lista = [(1,2),(3,6),(7,5)]\n",
    "sorteda(lista,impremeHola)\n"
   ]
  },
  {
   "cell_type": "markdown",
   "metadata": {},
   "source": [
    "\n",
    "## 6º. Eliminar duplicados en lista\n"
   ]
  },
  {
   "cell_type": "markdown",
   "metadata": {},
   "source": [
    "Definir una función que elimine los elementos duplicados de una lista"
   ]
  },
  {
   "cell_type": "code",
   "execution_count": null,
   "metadata": {},
   "outputs": [],
   "source": [
    "\n",
    "# Definir la función\n",
    "def eliminarDuplicados(lista):\n",
    "  listaUnicos = []\n",
    "  for n in lista:\n",
    "    if n not in listaUnicos:\n",
    "      listaUnicos.append(n)\n",
    "\n",
    "  return listaUnicos\n",
    "\n",
    "# Probar la funcion\n",
    "eliminarDuplicados([1,6,7,1])\n"
   ]
  },
  {
   "cell_type": "code",
   "execution_count": null,
   "metadata": {},
   "outputs": [],
   "source": [
    "# Probar la funcion\n",
    "eliminarDuplicados([1,6,7,1])"
   ]
  },
  {
   "cell_type": "markdown",
   "metadata": {},
   "source": [
    "\n",
    "## 7º. Lista vacia?\n"
   ]
  },
  {
   "cell_type": "markdown",
   "metadata": {},
   "source": [
    "Definir una función isEmpty que reciba como parametro una lista e indica si está vacia"
   ]
  },
  {
   "cell_type": "code",
   "execution_count": null,
   "metadata": {},
   "outputs": [],
   "source": [
    "# Definir la función\n",
    "def isEmpty(lista):\n",
    "  return len(lista)==0"
   ]
  },
  {
   "cell_type": "code",
   "execution_count": null,
   "metadata": {},
   "outputs": [],
   "source": [
    "# Probar la funcion\n",
    "isEmpty([])"
   ]
  },
  {
   "cell_type": "markdown",
   "metadata": {},
   "source": [
    "\n",
    "## 8º. Primeros y últimos al cuadrado\n"
   ]
  },
  {
   "cell_type": "markdown",
   "metadata": {},
   "source": [
    "Escribir un programa/función que genera e imprime una lista de los primeros y últimos 5 elementos donde los valores son elevados al cuadrado. Generar los números entre 1 y 30 ambos incluidos.\n",
    "[Imagen ejemplo](https://www.w3resource.com/w3r_images/Python-data-type-list-excercise-16.png)"
   ]
  },
  {
   "cell_type": "code",
   "execution_count": 66,
   "metadata": {},
   "outputs": [
    {
     "data": {
      "text/plain": [
       "[9, 10]"
      ]
     },
     "execution_count": 66,
     "metadata": {},
     "output_type": "execute_result"
    }
   ],
   "source": [
    "lista = [1,2,3,4,5,6,7,8,9,10]\n",
    "lista[-2:]\n",
    "\n",
    "    "
   ]
  },
  {
   "cell_type": "code",
   "execution_count": null,
   "metadata": {},
   "outputs": [],
   "source": [
    "# Probar la funcion\n",
    "mylista = range(1,30)\n",
    "print(mylista[0:5])\n",
    "\n",
    "listafinal=[]\n",
    "for n in mylista:\n",
    "   listafinal.append(n**2)\n",
    "\n",
    "for n in mylista[-1:5]\n",
    "  listafinal.append(n**2)"
   ]
  },
  {
   "cell_type": "markdown",
   "metadata": {},
   "source": [
    "\n",
    "## 9º. Concatenar elementos\n"
   ]
  },
  {
   "cell_type": "markdown",
   "metadata": {},
   "source": [
    "Definir una función para crear un lista concatenando a cada elemento de la lista, todos los números en una secuencia, desde 1 a N, siendo N pasado como parámetro.<br><br>\n",
    "Lista-ejemplo : ['p', 'q']<br>\n",
    "n =5<br>\n",
    "Resultado esperado : ['p1', 'q1', 'p2', 'q2', 'p3', 'q3', 'p4', 'q4', 'p5', 'q5']<br>"
   ]
  },
  {
   "cell_type": "code",
   "execution_count": 76,
   "metadata": {},
   "outputs": [
    {
     "name": "stdout",
     "output_type": "stream",
     "text": [
      "['p1', 'q1', 'c1', 'p2', 'q2', 'c2', 'p3', 'q3', 'c3', 'p4', 'q4', 'c4', 'p5', 'q5', 'c5', 'p6', 'q6', 'c6', 'p7', 'q7', 'c7', 'p8', 'q8', 'c8', 'p9', 'q9', 'c9', 'p10', 'q10', 'c10']\n"
     ]
    }
   ],
   "source": [
    "# Definir la función\n",
    "lista = ['p','q','c']\n",
    "\n",
    "def generateListaNumeros(paramLista,paramVeces):\n",
    "  lFinal = []\n",
    "\n",
    "  for num in range(1,paramVeces+1):\n",
    "    for letra in paramLista:\n",
    "      lFinal.append(letra+str(num))\n",
    "\n",
    "  return lFinal\n",
    "\n",
    "\n",
    "print(generateListaNumeros(lista,10))"
   ]
  },
  {
   "cell_type": "code",
   "execution_count": null,
   "metadata": {},
   "outputs": [],
   "source": [
    "# Probar la funcion"
   ]
  },
  {
   "cell_type": "markdown",
   "metadata": {},
   "source": [
    "\n",
    "## 10º. Generar grupos de 5 elementos\n"
   ]
  },
  {
   "cell_type": "markdown",
   "metadata": {},
   "source": [
    "Definir una función que genere grupos de 5 consecutivos números dentro de una lista.<br>\n",
    "[Imagen ejemplo](https://www.w3resource.com/w3r_images/Python-data-type-list-excercise-44.png)<br>\n",
    "\n",
    "Se puede realizar de 2 formas:<br><br>\n",
    "\n",
    "a) con for y agregando a listas<br>\n",
    "b) con listas comprimidas(https://www.w3schools.com/python/python_lists_comprehension.asp)"
   ]
  },
  {
   "cell_type": "code",
   "execution_count": null,
   "metadata": {},
   "outputs": [],
   "source": [
    "# Definir la función\n",
    "mylista = list(range(0,15))\n",
    "\n",
    "desde=0\n",
    "hasta=desde+5\n",
    "\n",
    "continua=True\n",
    "\n",
    "listaDevolver = list()\n",
    "\n",
    "while (continua):\n",
    "    listaDevolver.append(mylista[desde:hasta])\n",
    "    desde=hasta\n",
    "    hasta=hasta+5\n",
    "    if (hasta>len(mylista)):\n",
    "      continua=False\n",
    "\n",
    "print(listaDevolver)\n"
   ]
  },
  {
   "cell_type": "code",
   "execution_count": null,
   "metadata": {},
   "outputs": [],
   "source": [
    "# Probar la función\n"
   ]
  },
  {
   "cell_type": "markdown",
   "metadata": {},
   "source": [
    "<a id=\"dict\"></a>\n",
    "# Trabajo con diccionarios\n",
    "\n",
    "[Ayuda sobre diccionarios en python](https://www.w3schools.com/python/python_dictionaries.asp)"
   ]
  },
  {
   "cell_type": "markdown",
   "metadata": {},
   "source": [
    "\n",
    "## 1º. Operaciones básicas sobre diccionarios\n"
   ]
  },
  {
   "cell_type": "markdown",
   "metadata": {},
   "source": [
    "Definir un código para iterar sobre los elementos del siguiente diccionario\n",
    "\n",
    "Equipo = {'Rafa':'Científico de datos',\n",
    "         'Pedro':'Arquitecto de datos',\n",
    "         'Javier':'Ingeniero de datos',\n",
    "         'Antonio':'Director'}\n",
    "<br>        \n",
    "Imprimiendo la siguiente salida:<br>\n",
    "\n",
    "Rafa - Científico de datos<br>\n",
    "Pedro - Arquitecto de datos<br>\n",
    "Javier - Ingeniero de datos<br>\n",
    "Antonio - Director<br>"
   ]
  },
  {
   "cell_type": "code",
   "execution_count": null,
   "metadata": {},
   "outputs": [],
   "source": [
    "\n",
    "Articulos = [\n",
    "  {\n",
    "    \"userId\": 1,\n",
    "    \"id\": 1,\n",
    "    \"title\": \"sunt aut facere repellat provident occaecati excepturi optio reprehenderit\",\n",
    "    \"body\": \"quia et suscipit\\nsuscipit recusandae consequuntur expedita et cum\\nreprehenderit molestiae ut ut quas totam\\nnostrum rerum est autem sunt rem eveniet architecto\"\n",
    "  },\n",
    "  {\n",
    "    \"userId\": 1,\n",
    "    \"id\": 2,\n",
    "    \"title\": \"qui est esse\",\n",
    "    \"body\": \"est rerum tempore vitae\\nsequi sint nihil reprehenderit dolor beatae ea dolores neque\\nfugiat blanditiis voluptate porro vel nihil molestiae ut reiciendis\\nqui aperiam non debitis possimus qui neque nisi nulla\"\n",
    "  },\n",
    "]\n",
    "\n",
    "print(Articulos[1][\"title\"])\n",
    "\n",
    "for articulo in Articulos:\n",
    "  #print(articulo,\"\\n\\n\")\n",
    "  print(\"Articulo ---\\n\")\n",
    "\n",
    "  print(articulo[\"title\"])\n",
    "\n",
    "  for key,valor in articulo.items():\n",
    "    print(\"Clave:\", key, \"   Valor:\", valor)\n"
   ]
  },
  {
   "cell_type": "code",
   "execution_count": 58,
   "metadata": {},
   "outputs": [
    {
     "name": "stdout",
     "output_type": "stream",
     "text": [
      "[1, 2, 3, [5, 6, 7]]\n",
      "[1, 2, 3, [5, 6, 7], 5, 6, 7]\n"
     ]
    }
   ],
   "source": [
    "l1=[1,2,3]\n",
    "l2 = [5,6,7]\n",
    "\n",
    "lfinal = l1 + l2\n",
    "print(lfinal)"
   ]
  },
  {
   "cell_type": "code",
   "execution_count": 59,
   "metadata": {},
   "outputs": [
    {
     "name": "stdout",
     "output_type": "stream",
     "text": [
      "1\n",
      "2\n",
      "5\n",
      "6\n",
      "7\n",
      "{'Pedro': 'Arquitecto de datos', 'Javier': 'Ingeniero de datos', 'Rafa': [1, 2, 3, 4, 5], 'Antonio': 'Director', 'Rafa2': 'Astronomo'}\n",
      "[1, 2, 3, 4, 5]\n"
     ]
    },
    {
     "ename": "TypeError",
     "evalue": "unsupported operand type(s) for +: 'dict' and 'dict'",
     "output_type": "error",
     "traceback": [
      "\u001b[0;31m---------------------------------------------------------------------------\u001b[0m",
      "\u001b[0;31mTypeError\u001b[0m                                 Traceback (most recent call last)",
      "Input \u001b[0;32mIn [59]\u001b[0m, in \u001b[0;36m<module>\u001b[0;34m\u001b[0m\n\u001b[1;32m     25\u001b[0m dic1\u001b[38;5;241m=\u001b[39m{\u001b[38;5;241m1\u001b[39m:\u001b[38;5;241m10\u001b[39m, \u001b[38;5;241m2\u001b[39m:\u001b[38;5;241m20\u001b[39m} \n\u001b[1;32m     26\u001b[0m dic2\u001b[38;5;241m=\u001b[39m{\u001b[38;5;241m3\u001b[39m:\u001b[38;5;241m30\u001b[39m, \u001b[38;5;241m4\u001b[39m:\u001b[38;5;241m40\u001b[39m}\n\u001b[0;32m---> 28\u001b[0m d3 \u001b[38;5;241m=\u001b[39m \u001b[43mdic1\u001b[49m\u001b[43m \u001b[49m\u001b[38;5;241;43m+\u001b[39;49m\u001b[43m \u001b[49m\u001b[43mdic2\u001b[49m\n",
      "\u001b[0;31mTypeError\u001b[0m: unsupported operand type(s) for +: 'dict' and 'dict'"
     ]
    }
   ],
   "source": [
    "l = []\n",
    "l = [1,2,5,6,7]\n",
    "\n",
    "for num in l:\n",
    "  print(num)\n",
    "\n",
    "# Definir el código\n",
    "Equipo = {\n",
    "         'Pedro':'Arquitecto de datos',\n",
    "         'Javier':'Ingeniero de datos',\n",
    "         'Rafa': [1,2,3,4,5],\n",
    "         'Antonio':'Director'\n",
    "         }\n",
    "\n",
    "#Equipo.update({\"Rafa2\": \"Astronomo\"})\n",
    "Equipo[\"Rafa2\"] = \"Astronomo\"\n",
    "\n",
    "print(Equipo)\n",
    "\n",
    "print(Equipo[\"Rafa\"])\n",
    "\n",
    "#for key,value in Equipo.items():\n",
    "# print(key,'-', value)"
   ]
  },
  {
   "cell_type": "code",
   "execution_count": null,
   "metadata": {},
   "outputs": [],
   "source": [
    "# Otener el nombre del Equipo de Pedro\n",
    "Equipo['Pedro']"
   ]
  },
  {
   "cell_type": "markdown",
   "metadata": {},
   "source": [
    "\n",
    "## 2º. Concatenear diccionarios\n"
   ]
  },
  {
   "cell_type": "markdown",
   "metadata": {},
   "source": [
    "Definir una función para concatenar 2 diccionarios pasados como parámetros.  [Imagen ilustrativa](https://www.w3resource.com/w3r_images/python-data-type-dictionary-image-exercise-3.png)\n",
    "\n",
    "Ejemplo diccionario: dic1={1:10, 2:20} dic2={3:30, 4:40}\n",
    "\n",
    "Experado resultado: {1: 10, 2: 20, 3: 30, 4: 40}"
   ]
  },
  {
   "cell_type": "code",
   "execution_count": null,
   "metadata": {},
   "outputs": [],
   "source": [
    "# Definir el código\n",
    "dic1={1:10, 2:20} \n",
    "\n",
    "def concatenateDictionary(dic1,dic2):\n",
    "   dictFinal = dict(dic1)\n",
    "   dictFinal.update(dic2) \n",
    "   return dictFinal"
   ]
  },
  {
   "cell_type": "code",
   "execution_count": null,
   "metadata": {},
   "outputs": [],
   "source": [
    "# Probar el código\n",
    "dic1={1:10, 2:20} \n",
    "dic2={3:30, 4:40}\n",
    "\n",
    "concatenateDictionary(dic1,dic2)"
   ]
  },
  {
   "cell_type": "markdown",
   "metadata": {},
   "source": [
    "\n",
    "## 3º. Generar diccionario \n"
   ]
  },
  {
   "cell_type": "markdown",
   "metadata": {},
   "source": [
    "Definir una función que genere un diccionario que contiene un número entre (1 y N) en la forma (x,x*x).\n",
    "N se le pasa como parámetro\n",
    "\n",
    "Ejemplo: n = 5<br>\n",
    "Resultado esperado: {1: 1, 2: 4, 3: 9, 4: 16, 5: 25}"
   ]
  },
  {
   "cell_type": "code",
   "execution_count": 60,
   "metadata": {},
   "outputs": [],
   "source": [
    "# Definir el código\n",
    "\n",
    "def generateDict(paramN):\n",
    "  dictfinal = dict()\n",
    "  \n",
    "  for num in range(1,paramN+1):\n",
    "    dictfinal.update({num:num*num})\n",
    "\n",
    "  return dictfinal\n"
   ]
  },
  {
   "cell_type": "code",
   "execution_count": 61,
   "metadata": {},
   "outputs": [
    {
     "data": {
      "text/plain": [
       "{1: 1, 2: 4, 3: 9, 4: 16, 5: 25, 6: 36, 7: 49, 8: 64, 9: 81, 10: 100}"
      ]
     },
     "execution_count": 61,
     "metadata": {},
     "output_type": "execute_result"
    }
   ],
   "source": [
    "# Probar la función\n",
    "generateDict(10)"
   ]
  },
  {
   "cell_type": "markdown",
   "metadata": {},
   "source": [
    "\n",
    "## 4º. Generar diccionario de 2 listas\n"
   ]
  },
  {
   "cell_type": "markdown",
   "metadata": {},
   "source": [
    "Definir un código que genere un diccionario desde 2 listas. La 1ª lista serán las claves y la 2 lista serán los varlores<br>\n",
    "*pista: función zip*\n",
    "\n",
    "Ejemplo:<br>\n",
    "keys = ['red', 'green', 'blue']<br>\n",
    "values = ['#FF0000','#008000', '#0000FF']<br>\n",
    "Resultado esperado: {'red': '#FF0000', 'green': '#008000', 'blue': '#0000FF'}"
   ]
  },
  {
   "cell_type": "code",
   "execution_count": null,
   "metadata": {},
   "outputs": [],
   "source": [
    "# Definir el código\n",
    "keys = ['red', 'green', 'blue']\n",
    "values = ['#FF0000','#008000', '#0000FF']\n",
    "\n",
    "Final = {'red': '#FF0000', 'green': '#008000'}\n",
    "\n",
    "df = {}\n",
    "index=0\n",
    "for key in keys:\n",
    "  df[key]=values[index]\n",
    "  index+=1\n",
    "\n",
    "print(df)\n"
   ]
  },
  {
   "cell_type": "markdown",
   "metadata": {},
   "source": [
    "\n",
    "## 5º. Generar diccionario desde String\n"
   ]
  },
  {
   "cell_type": "markdown",
   "metadata": {},
   "source": [
    "Definir un código que genere un diccionario desde una cadena pasada como parámetro, donde las Keys con las letras de la cadena, y el valor, el nº de veces que esa letra se repite<br>\n",
    "\n",
    "Ejemplo:<br>\n",
    "Ejemplo: 'w3resource'<br>\n",
    "Restulado Esperado: {'w': 1, '3': 1, 'r': 2, 'e': 2, 's': 1, 'o': 1, 'u': 1, 'c': 1}"
   ]
  },
  {
   "cell_type": "code",
   "execution_count": 64,
   "metadata": {},
   "outputs": [
    {
     "name": "stdout",
     "output_type": "stream",
     "text": [
      "{'w': 1, '3': 1, 'r': 1, 'e': 1, 's': 1, 'o': 1, 'u': 1, 'c': 1}\n"
     ]
    }
   ],
   "source": [
    "# Definir el código\n",
    "texto = 'w3resource'\n",
    "\n",
    "df = {}\n",
    "for letra in texto:\n",
    "  df[letra]= df.get(letra,1)\n",
    "\n",
    "print(df)\n"
   ]
  },
  {
   "cell_type": "markdown",
   "metadata": {},
   "source": [
    "\n",
    "## 6º. Filtrar un diccionario sobre un valor\n"
   ]
  },
  {
   "cell_type": "markdown",
   "metadata": {},
   "source": [
    "Definir un función que filtre un diccionario pasado como parámetro y que devuelva otro diccionario que solo contenga los elementos cuyo valor sean mayores a ese valor.<br>\n",
    "\n",
    "Ejemplo: Mayor que 174<br>\n",
    "Ejemplo: toneladas = {'Alonso': 175, 'Juan': 180, 'Andres': 165, 'Ramon': 190}<br>\n",
    "Restulado Esperado:  {'Alonso': 175, 'Juan': 180, Ramon': 190}"
   ]
  },
  {
   "cell_type": "code",
   "execution_count": 66,
   "metadata": {},
   "outputs": [
    {
     "data": {
      "text/plain": [
       "{'Alonso': 175, 'Juan': 180, 'Ramon': 190}"
      ]
     },
     "execution_count": 66,
     "metadata": {},
     "output_type": "execute_result"
    }
   ],
   "source": [
    "# definir el código\n",
    "dic1 = { 'Alonso': 175, 'Juan': 180, 'Andres': 165, 'Ramon': 190}\n",
    "#Restulado Esperado:  {'Alonso': 175, 'Juan': 180, Ramon': 190}\n",
    "\n",
    "def dictBuscarMayorA_N(diccionarioFiltrar,paramMayorA):\n",
    "  df = {}\n",
    "  for k,v in diccionarioFiltrar.items():\n",
    "    if (v>paramMayorA):\n",
    "      df.update({k:v})\n",
    "\n",
    "  return df\n",
    "\n",
    "dictBuscarMayorA_N(dic1,165)"
   ]
  },
  {
   "cell_type": "code",
   "execution_count": null,
   "metadata": {},
   "outputs": [],
   "source": [
    "# Probar el código\n",
    "toneladas = {'Alonso': 175, 'Juan': 180, 'Andres': 165, 'Ramon': 190}\n"
   ]
  },
  {
   "cell_type": "markdown",
   "metadata": {},
   "source": [
    "\n",
    "## 7º. Diccionarios anidados\n"
   ]
  },
  {
   "cell_type": "markdown",
   "metadata": {},
   "source": [
    "Definir un función que filtre un diccionario pasado como parámetro y que devuelva otro diccionario que solo contenga los elementos cuyo valor sean mayores a ese valor.<br>\n",
    "El diccionario pasado es un diccionario anidado, de la siguiente forma:<br>\n",
    "\n",
    "{\n",
    "  \"Juan\": {\n",
    "    \"altura\": 170,\n",
    "    \"peso\": 70\n",
    "  },\n",
    "  \"Alberto\": {\n",
    "    \"altura\": 185,\n",
    "    \"peso\": 90\n",
    "  },\n",
    "  \"Manuel\": {\n",
    "    \"altura\": 160,\n",
    "    \"peso\": 65\n",
    "  }\n",
    "}\n",
    "\n",
    "Definir una función que filter por la altura, y otra función que filter por el peso.\n",
    "*Se deverá devolver aquellos estudiantes que superen el peso o la altura*"
   ]
  },
  {
   "cell_type": "code",
   "execution_count": null,
   "metadata": {},
   "outputs": [],
   "source": [
    "# Probar el código\n",
    "\n",
    "amigos = {\n",
    "  \"Juan\": {\n",
    "    \"altura\": 170,\n",
    "    \"peso\": 70\n",
    "  },\n",
    "  \"Alberto\": {\n",
    "    \"altura\": 185,\n",
    "    \"peso\": 90\n",
    "  },\n",
    "  \"Manuel\": {\n",
    "    \"altura\": 160,\n",
    "    \"peso\": 65\n",
    "  }\n",
    "}\n",
    "\n",
    "def filterDicByAltura(dictParam,altura):\n",
    "  dFinal = {}\n",
    "\n",
    "  for amigoNombre, valor in dictParam.items():\n",
    "    if (valor[\"peso\"]>altura):\n",
    "      dFinal.update({amigoNombre:valor})\n",
    "\n",
    "  return dFinal\n",
    "\n",
    "filterDicByAltura(amigos,165)"
   ]
  },
  {
   "cell_type": "code",
   "execution_count": 44,
   "metadata": {},
   "outputs": [
    {
     "data": {
      "text/plain": [
       "{'Juan': {'altura': 170, 'peso': 70}, 'Alberto': {'altura': 185, 'peso': 90}}"
      ]
     },
     "execution_count": 44,
     "metadata": {},
     "output_type": "execute_result"
    }
   ],
   "source": [
    "amigos = {\n",
    "  \"Juan\": {\n",
    "    \"altura\": 170,\n",
    "    \"peso\": 70\n",
    "  },\n",
    "  \"Alberto\": {\n",
    "    \"altura\": 185,\n",
    "    \"peso\": 90\n",
    "  },\n",
    "  \"Manuel\": {\n",
    "    \"altura\": 160,\n",
    "    \"peso\": 65\n",
    "  }\n",
    "}\n",
    "\n",
    "\n",
    "\n",
    "def filterDicByAltura(dictAFiltrar,filtroAltura):\n",
    "\n",
    "  dictDevolver = {}\n",
    "\n",
    "  for nombreAlumno,informacionAlumno in amigos.items():\n",
    "    \n",
    "    if (informacionAlumno[\"altura\"]>filtroAltura):\n",
    "      #alumno = {nombreAlumno: informacionAlumno}\n",
    "      dictDevolver[nombreAlumno] = informacionAlumno\n",
    "\n",
    "  return dictDevolver\n",
    "\n",
    "filterDicByAltura(amigos,165)\n"
   ]
  },
  {
   "cell_type": "code",
   "execution_count": null,
   "metadata": {},
   "outputs": [],
   "source": [
    "# definir el código\n",
    "\n",
    "def filterDicByAltura(dic, altura):\n",
    "    return {}"
   ]
  },
  {
   "cell_type": "code",
   "execution_count": null,
   "metadata": {},
   "outputs": [],
   "source": [
    "# definir el código\n",
    "\n",
    "def filterDicByPeso(dic, peso):  \n",
    "    return {}"
   ]
  },
  {
   "cell_type": "code",
   "execution_count": null,
   "metadata": {},
   "outputs": [],
   "source": [
    "# Probar el código\n",
    "filterDicByPeso(amigos,89)\n"
   ]
  }
 ],
 "metadata": {
  "kernelspec": {
   "display_name": "Python 3",
   "language": "python",
   "name": "python3"
  },
  "language_info": {
   "codemirror_mode": {
    "name": "ipython",
    "version": 3
   },
   "file_extension": ".py",
   "mimetype": "text/x-python",
   "name": "python",
   "nbconvert_exporter": "python",
   "pygments_lexer": "ipython3",
   "version": "3.9.7"
  }
 },
 "nbformat": 4,
 "nbformat_minor": 2
}
