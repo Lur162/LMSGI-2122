{
 "cells": [
  {
   "cell_type": "markdown",
   "metadata": {},
   "source": [
    "<a id=\"functions\"></a>\n",
    "# WebScraping\n",
    "\n",
    "El web scraping (“raspado” de páginas web) consiste en la extracción de los datos significativos de una o varias páginas web determinadas, o de todas las páginas web que estén relacionadas mediante enlaces en un sitio web, para una manipulación o análisis posterior .\n",
    "\n",
    "Esta extracción se realiza obteniendo la información a través de \"eliminar\" la información que no nos interesa, los metadatos y quedarnos solo con los datos que nos interesan, los datos puros.\n",
    "\n",
    "Los datos están inmersos dentro de la maraña de información que es el HTML y debemos navegar e inspeccionar estos datos y encontrar patrones de funcionamiento. Estos patrones se repiten de forma estructurada, y nosostros debemos aplicar esos patrones para separar el \"grano\" (datos) de la \"paja\"\n",
    "\n",
    "Para hacer estos ejercicios es necesario que repaseis los recursos disponibles en el tema sobre WebScraping, y las librerias que vamos a usar.\n",
    "En el repositorio público del módulo tenéis disponibles [estos notebooks](https://github.com/jssdocente/LMSGI-2122/tree/main/_transversal/python/notebooks/2.%20Webscraping) y unos [ejemplos prácticos](https://github.com/jssdocente/LMSGI-2122/blob/main/_transversal/python/notebooks/2.%20Webscraping/2.5%20Ejemplos%20pr%C3%A1cticos%20de%20web%20scraping.ipynb) muy interesantes y de gran valor de aprendizaje.\n",
    "\n",
    "También teneís disponbile este [documento](https://docs.google.com/document/d/1CJ7MMTkvvtuAhw02YrhRaaSyO7sj-n03wOS9E2Fs2Ko/edit?usp=sharing) qué explica los conceptos más importantes.\n"
   ]
  },
  {
   "cell_type": "markdown",
   "metadata": {},
   "source": [
    "## 1. Obtener los valores de la Bolsa de Madrid\n",
    "\n",
    "Para este ejercicios inspeccionaremos la [web de la Bolsa de Madrid](http://www.bolsamadrid.es/esp/aspx/Indices/Resumen.aspx).\n",
    "Este ejercicio lo vamos a dividir en varias partes, hasta conseguir el resultado final."
   ]
  },
  {
   "cell_type": "markdown",
   "metadata": {},
   "source": [
    "### 1.1. Obtener el nombre de los índices que componen la bolsa de Madrid.\n",
    "\n",
    "El objetivo es obtener una lista, e imprimir esa lista con los nombres de los índices que la componen.<br>\n",
    "Para obtenerla necesitamos acceder a esta página donde se encuentra un resumen de los índices, su nombre y una serie de datos adicionales.\n"
   ]
  },
  {
   "cell_type": "code",
   "execution_count": 29,
   "metadata": {},
   "outputs": [],
   "source": [
    "# definir la función que devuelva los nombres de los índices de la Bolsa de Madrid\n",
    "\n",
    "# importar librerias necesarias. En el resto de ejercicios, importar las necesarias, no siempre serán estas, podrán requerirse adicionales.\n",
    "import requests\n",
    "from bs4 import BeautifulSoup\n",
    "\n",
    "def obtenerListaIndicesBolsaMadrid():\n",
    "    url = \"https://www.bolsamadrid.es/esp/aspx/Indices/Resumen.aspx\"\n",
    "\n",
    "    # completar el código necesario\n",
    "    page = requests.get(url)\n",
    "    soap = BeautifulSoup(page.content)\n",
    "\n",
    "    table =soap.find('table',{'id': 'ctl00_Contenido_tblÍndices'})\n",
    "    #print(table)\n",
    "\n",
    "    listaIndices = []\n",
    "\n",
    "    for fila in table.find_all('tr'):\n",
    "        celdas = fila.find_all('td')\n",
    "        if len(celdas)>0:\n",
    "            listaIndices.append(celdas[0].string)\n",
    "\n",
    "        \n",
    "    return listaIndices"
   ]
  },
  {
   "cell_type": "code",
   "execution_count": null,
   "metadata": {},
   "outputs": [],
   "source": [
    "import requests\n",
    "from bs4 import BeautifulSoup\n",
    "\n",
    "url = \"https://www.bolsamadrid.es/esp/aspx/Indices/Resumen.aspx\"\n",
    "page = requests.get(url)\n",
    "soap = BeautifulSoup(page.content)\n",
    "\n",
    "table =soap.find('table',{'id': 'ctl00_Contenido_tblÍndices'})\n",
    "#print(table)\n",
    "\n",
    "numFila=0\n",
    "dicIndices = {}\n",
    "\n",
    "for fila in table.find_all('tr'):\n",
    "    celdas = fila.find_all('td')\n",
    "    if len(celdas)>0:\n",
    "       dicIndices.update({celdas[0].string: float(celdas[4].string.replace('.','').replace(',','.') ) })\n",
    "\n",
    "print(dicIndices)\n",
    "   "
   ]
  },
  {
   "cell_type": "code",
   "execution_count": null,
   "metadata": {},
   "outputs": [],
   "source": [
    "# Probar la funcion\n",
    "obtenerListaIndicesBolsaMadrid()"
   ]
  },
  {
   "cell_type": "markdown",
   "metadata": {},
   "source": [
    "### 1.2. Obtener un diccionario con los nombres de los índices que componen la bolsa de Madrid.\n",
    "\n",
    "El objetivo es obtener un diccionario, donde la clave sea el nombre del índice y su valor, el máximo historio que ha tenido<br>\n",
    "Ese diccionario obtenido lo debemos ordenar de mayor a menor según su máximo valor.<br>\n",
    "Por último imprimirlo."
   ]
  },
  {
   "cell_type": "code",
   "execution_count": 39,
   "metadata": {},
   "outputs": [],
   "source": [
    "# definir la función que devuelva los nombres de los índices de la Bolsa de Madrid\n",
    "def obtenerDiccioinarioIndicesBolsaMadrid():\n",
    "    url = \"https://www.bolsamadrid.es/esp/aspx/Indices/Resumen.aspx\"\n",
    "\n",
    "    # completar el código necesario para obtener diccionario\n",
    "    page = requests.get(url)\n",
    "    soap = BeautifulSoup(page.content)\n",
    "\n",
    "    table =soap.find('table',{'id': 'ctl00_Contenido_tblÍndices'})\n",
    "    #print(table)\n",
    "\n",
    "    numFila=0\n",
    "    dicIndices = {}\n",
    "\n",
    "    for fila in table.find_all('tr'):\n",
    "        celdas = fila.find_all('td')\n",
    "        if len(celdas)>0:\n",
    "            dicIndices.update({celdas[0].string: float(celdas[4].string.replace('.','').replace(',','.') ) })\n",
    "\n",
    "    # ordenar por máximo\n",
    "    return sorted(dicIndices.items(), key=lambda x:x[1])\n",
    "\n"
   ]
  },
  {
   "cell_type": "code",
   "execution_count": null,
   "metadata": {},
   "outputs": [],
   "source": [
    "# Probar la funcion\n",
    "obtenerDiccioinarioIndicesBolsaMadrid()"
   ]
  },
  {
   "cell_type": "markdown",
   "metadata": {},
   "source": [
    "### 1.3. Crear un dataframe (pandas) con ciertas columnas de los índices la bolsa de Madrid.\n",
    "\n",
    "El objetivo es dar un paso más, y obtener un dataframe con las columnas (indice, anterior, ultimo, maximo, minimo). La columna clave será el nombre del índice<br>\n",
    "Por último imprimirlo.\n",
    "Para la realización de este ejercicio os podeís guiar por este [Extración del texto de un discurso](https://github.com/jssdocente/LMSGI-2122/blob/main/_transversal/python/notebooks/2.%20Webscraping/2.5%20Ejemplos%20pr%C3%A1cticos%20de%20web%20scraping.ipynb)."
   ]
  },
  {
   "cell_type": "code",
   "execution_count": 109,
   "metadata": {},
   "outputs": [],
   "source": [
    "# definir la función que resuelva el ejercicio\n",
    "import pandas as pd\n",
    "\n",
    "def obtenerDataframeIndicesBolsaMadrid():\n",
    "    url = \"https://www.bolsamadrid.es/esp/aspx/Indices/Resumen.aspx\"\n",
    "\n",
    "    # completar el código necesario para obtener diccionario\n",
    "    page = requests.get(url)\n",
    "    soap = BeautifulSoup(page.content)\n",
    "\n",
    "    table =soap.find('table',{'id': 'ctl00_Contenido_tblÍndices'})\n",
    "    #print(table)\n",
    "\n",
    "    numFila=0\n",
    "    datos = {\"indice\": [], \"anterior\": [],\"ultimo\": [],\"maximo\": [], \"minimo\": [] }\n",
    "    \n",
    "    \n",
    "    for fila in table.find_all('tr'):\n",
    "        celdas = fila.find_all('td')\n",
    "        if len(celdas)>0:\n",
    "            indiceNombre = celdas[0].string\n",
    "            antValor = convertValueToFloat(celdas[1].string)\n",
    "            ultValor = convertValueToFloat(celdas[2].string)\n",
    "            maxValor = convertValueToFloat(celdas[4].string)\n",
    "            minValor = convertValueToFloat(celdas[5].string)\n",
    "            datos[\"indice\"].append(indiceNombre)\n",
    "            datos[\"anterior\"].append(antValor)\n",
    "            datos[\"ultimo\"].append(ultValor)\n",
    "            datos[\"maximo\"].append(maxValor)\n",
    "            datos[\"minimo\"].append(minValor)\n",
    "\n",
    "            #datos.update({indiceNombre : [indiceNombre, antValor, ultValor, maxValor,minValor]})\n",
    "\n",
    "    # Crear el dataframe de pandas\n",
    "    dt = pd.DataFrame(datos)\n",
    "    \n",
    "    #dt.set_index('indice')\n",
    "\n",
    "    return dt\n",
    "\n",
    "\n",
    "def convertValueToFloat(strValue):\n",
    "    return float(strValue.replace('.','').replace(',','.'))"
   ]
  },
  {
   "cell_type": "code",
   "execution_count": 110,
   "metadata": {},
   "outputs": [
    {
     "data": {
      "text/html": [
       "<div>\n",
       "<style scoped>\n",
       "    .dataframe tbody tr th:only-of-type {\n",
       "        vertical-align: middle;\n",
       "    }\n",
       "\n",
       "    .dataframe tbody tr th {\n",
       "        vertical-align: top;\n",
       "    }\n",
       "\n",
       "    .dataframe thead th {\n",
       "        text-align: right;\n",
       "    }\n",
       "</style>\n",
       "<table border=\"1\" class=\"dataframe\">\n",
       "  <thead>\n",
       "    <tr style=\"text-align: right;\">\n",
       "      <th></th>\n",
       "      <th>indice</th>\n",
       "      <th>anterior</th>\n",
       "      <th>ultimo</th>\n",
       "      <th>maximo</th>\n",
       "      <th>minimo</th>\n",
       "    </tr>\n",
       "  </thead>\n",
       "  <tbody>\n",
       "    <tr>\n",
       "      <th>0</th>\n",
       "      <td>IBEX 35®</td>\n",
       "      <td>8814.6</td>\n",
       "      <td>8694.7</td>\n",
       "      <td>8760.8</td>\n",
       "      <td>8622.1</td>\n",
       "    </tr>\n",
       "    <tr>\n",
       "      <th>1</th>\n",
       "      <td>IBEX 35® con Dividendos</td>\n",
       "      <td>27295.3</td>\n",
       "      <td>26923.8</td>\n",
       "      <td>27128.6</td>\n",
       "      <td>26699.1</td>\n",
       "    </tr>\n",
       "    <tr>\n",
       "      <th>2</th>\n",
       "      <td>IBEX MEDIUM CAP®</td>\n",
       "      <td>13609.4</td>\n",
       "      <td>13455.4</td>\n",
       "      <td>13538.7</td>\n",
       "      <td>13380.6</td>\n",
       "    </tr>\n",
       "    <tr>\n",
       "      <th>3</th>\n",
       "      <td>IBEX SMALL CAP®</td>\n",
       "      <td>8431.6</td>\n",
       "      <td>8215.6</td>\n",
       "      <td>8370.9</td>\n",
       "      <td>8169.1</td>\n",
       "    </tr>\n",
       "    <tr>\n",
       "      <th>4</th>\n",
       "      <td>IBEX 35® Bancos</td>\n",
       "      <td>504.6</td>\n",
       "      <td>499.7</td>\n",
       "      <td>503.1</td>\n",
       "      <td>494.4</td>\n",
       "    </tr>\n",
       "    <tr>\n",
       "      <th>...</th>\n",
       "      <td>...</td>\n",
       "      <td>...</td>\n",
       "      <td>...</td>\n",
       "      <td>...</td>\n",
       "      <td>...</td>\n",
       "    </tr>\n",
       "    <tr>\n",
       "      <th>76</th>\n",
       "      <td>Índice ITX Inverso X3</td>\n",
       "      <td>190.9</td>\n",
       "      <td>198.8</td>\n",
       "      <td>205.1</td>\n",
       "      <td>192.0</td>\n",
       "    </tr>\n",
       "    <tr>\n",
       "      <th>77</th>\n",
       "      <td>Índice TEF Inverso X5</td>\n",
       "      <td>7462.8</td>\n",
       "      <td>7544.9</td>\n",
       "      <td>8042.4</td>\n",
       "      <td>7331.1</td>\n",
       "    </tr>\n",
       "    <tr>\n",
       "      <th>78</th>\n",
       "      <td>Índice SAN Inverso X5</td>\n",
       "      <td>2758.3</td>\n",
       "      <td>2967.5</td>\n",
       "      <td>3145.9</td>\n",
       "      <td>2899.2</td>\n",
       "    </tr>\n",
       "    <tr>\n",
       "      <th>79</th>\n",
       "      <td>Índice BBVA Inverso X5</td>\n",
       "      <td>4423.2</td>\n",
       "      <td>4718.1</td>\n",
       "      <td>4873.2</td>\n",
       "      <td>4431.1</td>\n",
       "    </tr>\n",
       "    <tr>\n",
       "      <th>80</th>\n",
       "      <td>Índice ITX Inverso X5</td>\n",
       "      <td>926.0</td>\n",
       "      <td>990.2</td>\n",
       "      <td>1040.6</td>\n",
       "      <td>935.0</td>\n",
       "    </tr>\n",
       "  </tbody>\n",
       "</table>\n",
       "<p>81 rows × 5 columns</p>\n",
       "</div>"
      ],
      "text/plain": [
       "                     indice  anterior   ultimo   maximo   minimo\n",
       "0                  IBEX 35®    8814.6   8694.7   8760.8   8622.1\n",
       "1   IBEX 35® con Dividendos   27295.3  26923.8  27128.6  26699.1\n",
       "2          IBEX MEDIUM CAP®   13609.4  13455.4  13538.7  13380.6\n",
       "3           IBEX SMALL CAP®    8431.6   8215.6   8370.9   8169.1\n",
       "4           IBEX 35® Bancos     504.6    499.7    503.1    494.4\n",
       "..                      ...       ...      ...      ...      ...\n",
       "76    Índice ITX Inverso X3     190.9    198.8    205.1    192.0\n",
       "77    Índice TEF Inverso X5    7462.8   7544.9   8042.4   7331.1\n",
       "78    Índice SAN Inverso X5    2758.3   2967.5   3145.9   2899.2\n",
       "79   Índice BBVA Inverso X5    4423.2   4718.1   4873.2   4431.1\n",
       "80    Índice ITX Inverso X5     926.0    990.2   1040.6    935.0\n",
       "\n",
       "[81 rows x 5 columns]"
      ]
     },
     "execution_count": 110,
     "metadata": {},
     "output_type": "execute_result"
    }
   ],
   "source": [
    "# Probar la funcion\n",
    "obtenerDataframeIndicesBolsaMadrid()"
   ]
  },
  {
   "cell_type": "markdown",
   "metadata": {},
   "source": [
    "### 1.4. Obtener los nombres de las Acciones del índice IBEX\n",
    "\n",
    "En este ejercicio se requiere obtener una lista de las acciones que conforman el índice del IBEX-35.<br>\n",
    "Al igual que el ejercicio 1.1, los nombres de devuelven en forma de lista"
   ]
  },
  {
   "cell_type": "code",
   "execution_count": null,
   "metadata": {},
   "outputs": [],
   "source": [
    "# definir la función que devuelva los nombres de los índices de la Bolsa de Madrid\n",
    "def obtenerListaAccionesIBEX():\n",
    "    url = \"https://www.bolsamadrid.es/esp/aspx/Mercados/Precios.aspx?indice=ESI100000000&punto=indice\"\n",
    "\n",
    "    # completar el código necesario"
   ]
  },
  {
   "cell_type": "code",
   "execution_count": null,
   "metadata": {},
   "outputs": [],
   "source": [
    "# Probar la funcion\n",
    "obtenerListaAccionesIBEX()"
   ]
  },
  {
   "cell_type": "markdown",
   "metadata": {},
   "source": [
    "### 1.5. Obtener un diccionario con el nombre y el volmen de la sesión\n",
    "\n",
    "El objetivo es obtener un diccionario, donde la clave sea el nombre de la acción y el volmen movido durante la sesión<br>\n",
    "Ese diccionario obtenido lo debemos ordenar de mayor a menor según su volumen.<br>\n",
    "Por último imprimirlo."
   ]
  },
  {
   "cell_type": "code",
   "execution_count": null,
   "metadata": {},
   "outputs": [],
   "source": [
    "# definir la función resuelve el ejercicio\n",
    "def obtenerDiccionarioListaAccionesIBEX():\n",
    "    url = \"https://www.bolsamadrid.es/esp/aspx/Mercados/Precios.aspx?indice=ESI100000000&punto=indice\"\n",
    "\n",
    "    # completar el código necesario"
   ]
  },
  {
   "cell_type": "code",
   "execution_count": null,
   "metadata": {},
   "outputs": [],
   "source": [
    "# Probar la funcion\n",
    "obtenerDiccionarioListaAccionesIBEX()"
   ]
  },
  {
   "cell_type": "markdown",
   "metadata": {},
   "source": [
    "### 1.6. Crear un dataframe (pandas) con ciertas columnas de las acciones.\n",
    "\n",
    "El objetivo es dar un paso más, y obtener un dataframe con las columnas (fecha, nombre, precio, max, min, volumen). La columna clave será el nombre de la acción<br>\n",
    "El orden de las columnas en el dataframe deben ser las siguientes: *fecha, nombre, precio, max, min, volumen*.<br>\n",
    "Por último imprimirlo."
   ]
  },
  {
   "cell_type": "code",
   "execution_count": null,
   "metadata": {},
   "outputs": [],
   "source": [
    "# definir la función que resuelva el ejercicio\n",
    "def obtenerDataframeAccionesIBEX():\n",
    "    url = \"https://www.bolsamadrid.es/esp/aspx/Mercados/Precios.aspx?indice=ESI100000000&punto=indice\"\n",
    "\n",
    "    # completar el código necesario para obtener diccionario\n",
    "\n",
    "\n",
    "\n",
    "\n",
    "    # ordenar por máximo\n",
    "\n"
   ]
  },
  {
   "cell_type": "code",
   "execution_count": null,
   "metadata": {},
   "outputs": [],
   "source": [
    "# Probar la funcion\n",
    "obtenerDataframeAccionesIBEX()"
   ]
  },
  {
   "cell_type": "markdown",
   "metadata": {},
   "source": [
    "### 1.7. Guardar el dataframe obtenido en un fichero CSV\n",
    "\n",
    "El objetivo es dar un paso más, y guardar los valores obtenidos en el dataframe en un fichero CSV (separado por , o ; o ...)<br>\n",
    "Este ejercicio es una continuación del ejercicio 1.6, con lo que se creará otra función para guardar el dataframe obtenido en un fichero CSV.\n",
    "El orden de las columnas debe ser el siguiente: *fecha, nombre, precio, max, min, volumen*.<br>\n",
    " \n",
    "Este fichero si no existe se crea, y si existe, se le anexarán las nuevas filas para los datos de la sesión para ese día.\n",
    "Por último imprimirlo.\n",
    "\n",
    "¿Ayuda? podeis seguir este [articulo](https://www.delftstack.com/es/howto/python-pandas/write-a-pandas-dataframe-to-csv/) donde explica cómo guardar un dataframe a un CSV."
   ]
  },
  {
   "cell_type": "code",
   "execution_count": 4,
   "metadata": {},
   "outputs": [
    {
     "ename": "IndentationError",
     "evalue": "expected an indented block (Temp/ipykernel_24516/3899128536.py, line 14)",
     "output_type": "error",
     "traceback": [
      "\u001b[1;36m  File \u001b[1;32m\"C:\\Users\\Usuario\\AppData\\Local\\Temp/ipykernel_24516/3899128536.py\"\u001b[1;36m, line \u001b[1;32m14\u001b[0m\n\u001b[1;33m    \u001b[0m\n\u001b[1;37m    ^\u001b[0m\n\u001b[1;31mIndentationError\u001b[0m\u001b[1;31m:\u001b[0m expected an indented block\n"
     ]
    }
   ],
   "source": [
    "# definir la función que resuelva el ejercicio. \n",
    "\n",
    "#Se el pasan 2 argumentos, el dataframe(df) y el nombre del fichero CSV donde se va a guardar\n",
    "csvfile = \"datosAccionesIbex.csv\"\n",
    "\n",
    "def saveToCSV(df, csvFileName):\n",
    "    \n",
    "    # completar el código necesario para obtener diccionario\n",
    "\n",
    "\n",
    "\n",
    "\n",
    "    # ordenar por máximo\n",
    "    \n"
   ]
  },
  {
   "cell_type": "code",
   "execution_count": null,
   "metadata": {},
   "outputs": [],
   "source": [
    "# Probar la funcion\n",
    "\n",
    "obtenerDataframeAccionesIBEX()\n",
    "\n",
    "\n",
    "\n",
    "saveToCSV()"
   ]
  }
 ],
 "metadata": {
  "kernelspec": {
   "display_name": "Python 3",
   "language": "python",
   "name": "python3"
  },
  "language_info": {
   "codemirror_mode": {
    "name": "ipython",
    "version": 3
   },
   "file_extension": ".py",
   "mimetype": "text/x-python",
   "name": "python",
   "nbconvert_exporter": "python",
   "pygments_lexer": "ipython3",
   "version": "3.9.10"
  }
 },
 "nbformat": 4,
 "nbformat_minor": 2
}
